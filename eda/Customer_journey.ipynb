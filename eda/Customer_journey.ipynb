{
  "nbformat": 4,
  "nbformat_minor": 0,
  "metadata": {
    "colab": {
      "name": "Carga datos.ipynb",
      "provenance": [],
      "collapsed_sections": [],
      "machine_shape": "hm"
    },
    "kernelspec": {
      "name": "python3",
      "display_name": "Python 3"
    },
    "language_info": {
      "name": "python"
    },
    "accelerator": "GPU",
    "gpuClass": "standard"
  },
  "cells": [
    {
      "cell_type": "code",
      "source": [
        "from google.colab import drive\n",
        "drive.mount('/content/drive')"
      ],
      "metadata": {
        "colab": {
          "base_uri": "https://localhost:8080/"
        },
        "id": "rOgSOq3eOdjm",
        "outputId": "fcb0b8d3-91b8-45bc-c8ac-9022d2cc1f69"
      },
      "execution_count": null,
      "outputs": [
        {
          "output_type": "stream",
          "name": "stdout",
          "text": [
            "Drive already mounted at /content/drive; to attempt to forcibly remount, call drive.mount(\"/content/drive\", force_remount=True).\n"
          ]
        }
      ]
    },
    {
      "cell_type": "code",
      "source": [
        "drive.flush_and_unmount()\n",
        "print('Todos los cambios hechos en esta sesion colab son visibles en Drive.')"
      ],
      "metadata": {
        "colab": {
          "base_uri": "https://localhost:8080/"
        },
        "id": "keu-SEdcOehF",
        "outputId": "14be9182-49b6-4745-f52c-e6fa9677be91"
      },
      "execution_count": null,
      "outputs": [
        {
          "output_type": "stream",
          "name": "stdout",
          "text": [
            "Todos los cambios hechos en esta sesion colab son visibles en Drive.\n"
          ]
        }
      ]
    },
    {
      "cell_type": "code",
      "execution_count": null,
      "metadata": {
        "id": "clowsLoX_eEr"
      },
      "outputs": [],
      "source": [
        "from google.colab import files\n",
        "uploaded = files.upload()\n",
        "for fn in uploaded.keys():\n",
        "  print('User uploaded file \"{name}\" with length {length} bytes'.format(\n",
        "      name=fn, length=len(uploaded[fn])))\n"
      ]
    },
    {
      "cell_type": "code",
      "source": [
        "import numpy as np \n",
        "import pandas as pd \n",
        "import seaborn as sns\n",
        "import os"
      ],
      "metadata": {
        "id": "T7Vje2fTpAHQ"
      },
      "execution_count": null,
      "outputs": []
    },
    {
      "cell_type": "code",
      "source": [
        "data_csv1 = \"/content/drive/MyDrive/saleforcasting/datos/2019-Oct.csv\"\n"
      ],
      "metadata": {
        "id": "_L3jM2UNofI6"
      },
      "execution_count": null,
      "outputs": []
    },
    {
      "cell_type": "code",
      "source": [
        "data_csv2 = \"/content/drive/MyDrive/saleforcasting/datos/2019-Nov.csv\""
      ],
      "metadata": {
        "id": "V-KCCbsEtDQr"
      },
      "execution_count": null,
      "outputs": []
    },
    {
      "cell_type": "code",
      "source": [
        "data_csv3 = \"/content/drive/MyDrive/saleforcasting/datos/2019-Dec.csv\""
      ],
      "metadata": {
        "id": "5U-sj3tUtdTj"
      },
      "execution_count": null,
      "outputs": []
    },
    {
      "cell_type": "code",
      "source": [
        "data_csv4 = \"/content/drive/MyDrive/saleforcasting/datos/2020-Jan.csv\""
      ],
      "metadata": {
        "id": "JLc0bfXmtgdo"
      },
      "execution_count": null,
      "outputs": []
    },
    {
      "cell_type": "code",
      "source": [
        "data_csv5 = \"/content/drive/MyDrive/saleforcasting/datos/2020-Feb.csv\""
      ],
      "metadata": {
        "id": "XzNKHLRJth2L"
      },
      "execution_count": null,
      "outputs": []
    },
    {
      "cell_type": "code",
      "source": [
        "data_csv6 = \"/content/drive/MyDrive/saleforcasting/datos/2020-Mar.csv\""
      ],
      "metadata": {
        "id": "sax6DsDDtiqQ"
      },
      "execution_count": null,
      "outputs": []
    },
    {
      "cell_type": "code",
      "source": [
        "data_csv7 = \"/content/drive/MyDrive/saleforcasting/datos/2020-Apr.csv\""
      ],
      "metadata": {
        "id": "TqwPZU7ktje8"
      },
      "execution_count": null,
      "outputs": []
    },
    {
      "cell_type": "code",
      "source": [
        "df1 = pd.read_csv(data_csv1)"
      ],
      "metadata": {
        "id": "uXkYHm9cqVMN"
      },
      "execution_count": null,
      "outputs": []
    },
    {
      "cell_type": "code",
      "source": [
        "only_df1 = df1.loc[df1.event_type == 'purchase']\n",
        "only_df1 = only_df1.loc[df1.category_code == 'electronics.smartphone']\n",
        "only_df1.to_csv('/content/drive/MyDrive/saleforcasting/datos/datos1.csv')"
      ],
      "metadata": {
        "id": "6hm2i1E-Dt7e"
      },
      "execution_count": null,
      "outputs": []
    },
    {
      "cell_type": "code",
      "source": [
        "df2 = pd.read_csv(data_csv2)"
      ],
      "metadata": {
        "id": "RVIBSPPotIDL"
      },
      "execution_count": null,
      "outputs": []
    },
    {
      "cell_type": "code",
      "source": [
        "only_df2 = df2.loc[df2.event_type == 'purchase']\n",
        "only_df2 = only_df2.loc[df2.category_code == 'electronics.smartphone']\n",
        "only_df2.to_csv('/content/drive/MyDrive/saleforcasting/datos/datos2.csv')"
      ],
      "metadata": {
        "id": "SQja-WytERhg"
      },
      "execution_count": null,
      "outputs": []
    },
    {
      "cell_type": "code",
      "source": [
        "df3 = pd.read_csv(data_csv3)"
      ],
      "metadata": {
        "id": "qzBTmUDqt6rO"
      },
      "execution_count": null,
      "outputs": []
    },
    {
      "cell_type": "code",
      "source": [
        "only_df3 = df3.loc[df3.event_type == 'purchase']\n",
        "only_df3 = only_df3.loc[df3.category_code == 'electronics.smartphone']\n",
        "only_df3.to_csv('/content/drive/MyDrive/saleforcasting/datos/datos3.csv')"
      ],
      "metadata": {
        "id": "4jGFlBvR_Ex_"
      },
      "execution_count": null,
      "outputs": []
    },
    {
      "cell_type": "code",
      "source": [
        "df4 = pd.read_csv(data_csv4)"
      ],
      "metadata": {
        "id": "mHKIKcQnt8ta"
      },
      "execution_count": null,
      "outputs": []
    },
    {
      "cell_type": "code",
      "source": [
        "only_df4 = df4.loc[df4.event_type == 'purchase']\n",
        "only_df4 = only_df4.loc[df4.category_code == 'electronics.smartphone']\n",
        "only_df4.to_csv('/content/drive/MyDrive/saleforcasting/datos/datos4.csv')"
      ],
      "metadata": {
        "id": "EwEBjhJ0_6Gs"
      },
      "execution_count": null,
      "outputs": []
    },
    {
      "cell_type": "code",
      "source": [
        "df5 = pd.read_csv(data_csv5)"
      ],
      "metadata": {
        "id": "-K0uS3Fvt9dl"
      },
      "execution_count": null,
      "outputs": []
    },
    {
      "cell_type": "code",
      "source": [
        "only_df5 = df5.loc[df5.event_type == 'purchase']\n",
        "only_df5 = only_df5.loc[df5.category_code == 'electronics.smartphone']\n",
        "only_df5.to_csv('/content/drive/MyDrive/saleforcasting/datos/datos5.csv')"
      ],
      "metadata": {
        "id": "bxahrdVzAMLK"
      },
      "execution_count": null,
      "outputs": []
    },
    {
      "cell_type": "code",
      "source": [
        "df6 = pd.read_csv(data_csv6)"
      ],
      "metadata": {
        "id": "ZiyFA9UMt-2B"
      },
      "execution_count": null,
      "outputs": []
    },
    {
      "cell_type": "code",
      "source": [
        "only_df6 = df6.loc[df6.event_type == 'purchase']\n",
        "only_df6 = only_df6.loc[df6.category_code == 'electronics.smartphone']\n",
        "only_df6.to_csv('/content/drive/MyDrive/saleforcasting/datos/datos6.csv')"
      ],
      "metadata": {
        "id": "kovpH-VQBtS9"
      },
      "execution_count": null,
      "outputs": []
    },
    {
      "cell_type": "code",
      "source": [
        "df7 = pd.read_csv(data_csv7)"
      ],
      "metadata": {
        "id": "gP_iFArPGHug"
      },
      "execution_count": null,
      "outputs": []
    },
    {
      "cell_type": "code",
      "source": [
        "only_df7 = df7.loc[df7.event_type == 'purchase']\n",
        "only_df7 = only_df7.loc[df7.category_code == 'electronics.smartphone']\n",
        "only_df7.to_csv('/content/drive/MyDrive/saleforcasting/datos/datos7.csv')"
      ],
      "metadata": {
        "id": "xWHx-jxoCPaa"
      },
      "execution_count": null,
      "outputs": []
    },
    {
      "cell_type": "code",
      "source": [
        "df_1 = pd.read_csv('/content/drive/MyDrive/saleforcasting/datos/datos1.csv')\n",
        "df_2 = pd.read_csv('/content/drive/MyDrive/saleforcasting/datos/datos2.csv')\n",
        "df_3 = pd.read_csv('/content/drive/MyDrive/saleforcasting/datos/datos3.csv')\n",
        "df_4 = pd.read_csv('/content/drive/MyDrive/saleforcasting/datos/datos4.csv')\n",
        "df_5 = pd.read_csv('/content/drive/MyDrive/saleforcasting/datos/datos5.csv')\n",
        "df_6 = pd.read_csv('/content/drive/MyDrive/saleforcasting/datos/datos6.csv')\n",
        "df_7 = pd.read_csv('/content/drive/MyDrive/saleforcasting/datos/datos7.csv')"
      ],
      "metadata": {
        "id": "xmMkjCjVuArV"
      },
      "execution_count": null,
      "outputs": []
    },
    {
      "cell_type": "code",
      "source": [
        "frames = [df_1,df_2,df_3,df_4,df_5,df_6,df_7]\n",
        "only_purchases = pd.concat(frames)"
      ],
      "metadata": {
        "id": "p-ajd71KswLE"
      },
      "execution_count": null,
      "outputs": []
    },
    {
      "cell_type": "code",
      "source": [
        "only_purchases.to_csv('/content/drive/MyDrive/saleforcasting/datos/datos.csv')"
      ],
      "metadata": {
        "id": "pk8tBFPHKqaH"
      },
      "execution_count": null,
      "outputs": []
    },
    {
      "cell_type": "code",
      "source": [
        "only_purchases = raw_data.loc[raw_data.event_type == 'purchase']"
      ],
      "metadata": {
        "id": "kzETMACcqyoC"
      },
      "execution_count": null,
      "outputs": []
    },
    {
      "cell_type": "code",
      "source": [
        "only_purchases.head()"
      ],
      "metadata": {
        "colab": {
          "base_uri": "https://localhost:8080/",
          "height": 496
        },
        "id": "-FTpLsOprRun",
        "outputId": "9e7d1824-d3d1-45ab-f569-a61b187c1652"
      },
      "execution_count": null,
      "outputs": [
        {
          "output_type": "execute_result",
          "data": {
            "text/plain": [
              "   Unnamed: 0               event_time event_type  product_id  \\\n",
              "0         162  2019-10-01 00:02:14 UTC   purchase     1004856   \n",
              "1         308  2019-10-01 00:04:37 UTC   purchase     1002532   \n",
              "2         618  2019-10-01 00:10:08 UTC   purchase     1002524   \n",
              "3         860  2019-10-01 00:14:14 UTC   purchase     1004932   \n",
              "4        1558  2019-10-01 02:19:10 UTC   purchase     1004246   \n",
              "\n",
              "           category_id           category_code    brand   price    user_id  \\\n",
              "0  2053013555631882655  electronics.smartphone  samsung  130.76  543272936   \n",
              "1  2053013555631882655  electronics.smartphone    apple  642.69  551377651   \n",
              "2  2053013555631882655  electronics.smartphone    apple  515.67  524325294   \n",
              "3  2053013555631882655  electronics.smartphone     vivo  463.31  555083442   \n",
              "4  2053013555631882655  electronics.smartphone    apple  736.18  515246296   \n",
              "\n",
              "                           user_session  \n",
              "0  8187d148-3c41-46d4-b0c0-9c08cd9dc564  \n",
              "1  3c80f0d6-e9ec-4181-8c5c-837a30be2d68  \n",
              "2  0b74a829-f9d7-4654-b5b0-35bc9822c238  \n",
              "3  83d12d1a-5452-4fa0-abbb-d9f492f8b562  \n",
              "4  b7dbae4f-cad3-463e-89ce-41990cf48dea  "
            ],
            "text/html": [
              "\n",
              "  <div id=\"df-addde6af-f979-41c4-a0a3-70be4b625001\">\n",
              "    <div class=\"colab-df-container\">\n",
              "      <div>\n",
              "<style scoped>\n",
              "    .dataframe tbody tr th:only-of-type {\n",
              "        vertical-align: middle;\n",
              "    }\n",
              "\n",
              "    .dataframe tbody tr th {\n",
              "        vertical-align: top;\n",
              "    }\n",
              "\n",
              "    .dataframe thead th {\n",
              "        text-align: right;\n",
              "    }\n",
              "</style>\n",
              "<table border=\"1\" class=\"dataframe\">\n",
              "  <thead>\n",
              "    <tr style=\"text-align: right;\">\n",
              "      <th></th>\n",
              "      <th>Unnamed: 0</th>\n",
              "      <th>event_time</th>\n",
              "      <th>event_type</th>\n",
              "      <th>product_id</th>\n",
              "      <th>category_id</th>\n",
              "      <th>category_code</th>\n",
              "      <th>brand</th>\n",
              "      <th>price</th>\n",
              "      <th>user_id</th>\n",
              "      <th>user_session</th>\n",
              "    </tr>\n",
              "  </thead>\n",
              "  <tbody>\n",
              "    <tr>\n",
              "      <th>0</th>\n",
              "      <td>162</td>\n",
              "      <td>2019-10-01 00:02:14 UTC</td>\n",
              "      <td>purchase</td>\n",
              "      <td>1004856</td>\n",
              "      <td>2053013555631882655</td>\n",
              "      <td>electronics.smartphone</td>\n",
              "      <td>samsung</td>\n",
              "      <td>130.76</td>\n",
              "      <td>543272936</td>\n",
              "      <td>8187d148-3c41-46d4-b0c0-9c08cd9dc564</td>\n",
              "    </tr>\n",
              "    <tr>\n",
              "      <th>1</th>\n",
              "      <td>308</td>\n",
              "      <td>2019-10-01 00:04:37 UTC</td>\n",
              "      <td>purchase</td>\n",
              "      <td>1002532</td>\n",
              "      <td>2053013555631882655</td>\n",
              "      <td>electronics.smartphone</td>\n",
              "      <td>apple</td>\n",
              "      <td>642.69</td>\n",
              "      <td>551377651</td>\n",
              "      <td>3c80f0d6-e9ec-4181-8c5c-837a30be2d68</td>\n",
              "    </tr>\n",
              "    <tr>\n",
              "      <th>2</th>\n",
              "      <td>618</td>\n",
              "      <td>2019-10-01 00:10:08 UTC</td>\n",
              "      <td>purchase</td>\n",
              "      <td>1002524</td>\n",
              "      <td>2053013555631882655</td>\n",
              "      <td>electronics.smartphone</td>\n",
              "      <td>apple</td>\n",
              "      <td>515.67</td>\n",
              "      <td>524325294</td>\n",
              "      <td>0b74a829-f9d7-4654-b5b0-35bc9822c238</td>\n",
              "    </tr>\n",
              "    <tr>\n",
              "      <th>3</th>\n",
              "      <td>860</td>\n",
              "      <td>2019-10-01 00:14:14 UTC</td>\n",
              "      <td>purchase</td>\n",
              "      <td>1004932</td>\n",
              "      <td>2053013555631882655</td>\n",
              "      <td>electronics.smartphone</td>\n",
              "      <td>vivo</td>\n",
              "      <td>463.31</td>\n",
              "      <td>555083442</td>\n",
              "      <td>83d12d1a-5452-4fa0-abbb-d9f492f8b562</td>\n",
              "    </tr>\n",
              "    <tr>\n",
              "      <th>4</th>\n",
              "      <td>1558</td>\n",
              "      <td>2019-10-01 02:19:10 UTC</td>\n",
              "      <td>purchase</td>\n",
              "      <td>1004246</td>\n",
              "      <td>2053013555631882655</td>\n",
              "      <td>electronics.smartphone</td>\n",
              "      <td>apple</td>\n",
              "      <td>736.18</td>\n",
              "      <td>515246296</td>\n",
              "      <td>b7dbae4f-cad3-463e-89ce-41990cf48dea</td>\n",
              "    </tr>\n",
              "  </tbody>\n",
              "</table>\n",
              "</div>\n",
              "      <button class=\"colab-df-convert\" onclick=\"convertToInteractive('df-addde6af-f979-41c4-a0a3-70be4b625001')\"\n",
              "              title=\"Convert this dataframe to an interactive table.\"\n",
              "              style=\"display:none;\">\n",
              "        \n",
              "  <svg xmlns=\"http://www.w3.org/2000/svg\" height=\"24px\"viewBox=\"0 0 24 24\"\n",
              "       width=\"24px\">\n",
              "    <path d=\"M0 0h24v24H0V0z\" fill=\"none\"/>\n",
              "    <path d=\"M18.56 5.44l.94 2.06.94-2.06 2.06-.94-2.06-.94-.94-2.06-.94 2.06-2.06.94zm-11 1L8.5 8.5l.94-2.06 2.06-.94-2.06-.94L8.5 2.5l-.94 2.06-2.06.94zm10 10l.94 2.06.94-2.06 2.06-.94-2.06-.94-.94-2.06-.94 2.06-2.06.94z\"/><path d=\"M17.41 7.96l-1.37-1.37c-.4-.4-.92-.59-1.43-.59-.52 0-1.04.2-1.43.59L10.3 9.45l-7.72 7.72c-.78.78-.78 2.05 0 2.83L4 21.41c.39.39.9.59 1.41.59.51 0 1.02-.2 1.41-.59l7.78-7.78 2.81-2.81c.8-.78.8-2.07 0-2.86zM5.41 20L4 18.59l7.72-7.72 1.47 1.35L5.41 20z\"/>\n",
              "  </svg>\n",
              "      </button>\n",
              "      \n",
              "  <style>\n",
              "    .colab-df-container {\n",
              "      display:flex;\n",
              "      flex-wrap:wrap;\n",
              "      gap: 12px;\n",
              "    }\n",
              "\n",
              "    .colab-df-convert {\n",
              "      background-color: #E8F0FE;\n",
              "      border: none;\n",
              "      border-radius: 50%;\n",
              "      cursor: pointer;\n",
              "      display: none;\n",
              "      fill: #1967D2;\n",
              "      height: 32px;\n",
              "      padding: 0 0 0 0;\n",
              "      width: 32px;\n",
              "    }\n",
              "\n",
              "    .colab-df-convert:hover {\n",
              "      background-color: #E2EBFA;\n",
              "      box-shadow: 0px 1px 2px rgba(60, 64, 67, 0.3), 0px 1px 3px 1px rgba(60, 64, 67, 0.15);\n",
              "      fill: #174EA6;\n",
              "    }\n",
              "\n",
              "    [theme=dark] .colab-df-convert {\n",
              "      background-color: #3B4455;\n",
              "      fill: #D2E3FC;\n",
              "    }\n",
              "\n",
              "    [theme=dark] .colab-df-convert:hover {\n",
              "      background-color: #434B5C;\n",
              "      box-shadow: 0px 1px 3px 1px rgba(0, 0, 0, 0.15);\n",
              "      filter: drop-shadow(0px 1px 2px rgba(0, 0, 0, 0.3));\n",
              "      fill: #FFFFFF;\n",
              "    }\n",
              "  </style>\n",
              "\n",
              "      <script>\n",
              "        const buttonEl =\n",
              "          document.querySelector('#df-addde6af-f979-41c4-a0a3-70be4b625001 button.colab-df-convert');\n",
              "        buttonEl.style.display =\n",
              "          google.colab.kernel.accessAllowed ? 'block' : 'none';\n",
              "\n",
              "        async function convertToInteractive(key) {\n",
              "          const element = document.querySelector('#df-addde6af-f979-41c4-a0a3-70be4b625001');\n",
              "          const dataTable =\n",
              "            await google.colab.kernel.invokeFunction('convertToInteractive',\n",
              "                                                     [key], {});\n",
              "          if (!dataTable) return;\n",
              "\n",
              "          const docLinkHtml = 'Like what you see? Visit the ' +\n",
              "            '<a target=\"_blank\" href=https://colab.research.google.com/notebooks/data_table.ipynb>data table notebook</a>'\n",
              "            + ' to learn more about interactive tables.';\n",
              "          element.innerHTML = '';\n",
              "          dataTable['output_type'] = 'display_data';\n",
              "          await google.colab.output.renderOutput(dataTable, element);\n",
              "          const docLink = document.createElement('div');\n",
              "          docLink.innerHTML = docLinkHtml;\n",
              "          element.appendChild(docLink);\n",
              "        }\n",
              "      </script>\n",
              "    </div>\n",
              "  </div>\n",
              "  "
            ]
          },
          "metadata": {},
          "execution_count": 11
        }
      ]
    },
    {
      "cell_type": "markdown",
      "source": [
        "Marcas más populares:"
      ],
      "metadata": {
        "id": "Iwal1ETjKQPJ"
      }
    },
    {
      "cell_type": "code",
      "source": [
        "purchases_with_brands = only_purchases.loc[only_purchases.brand.notnull()]\n",
        "top_sellers = purchases_with_brands.groupby('brand').brand.agg([len]).sort_values(by='len', ascending=False)\n",
        "top_sellers.head(20)"
      ],
      "metadata": {
        "colab": {
          "base_uri": "https://localhost:8080/",
          "height": 708
        },
        "id": "kpnikbO2rzRd",
        "outputId": "cf9a4ad7-8b91-4b8b-c789-82cef026d05d"
      },
      "execution_count": null,
      "outputs": [
        {
          "output_type": "execute_result",
          "data": {
            "text/plain": [
              "              len\n",
              "brand            \n",
              "samsung    307735\n",
              "apple      248502\n",
              "xiaomi      88894\n",
              "huawei      44094\n",
              "oppo        26182\n",
              "vivo         4246\n",
              "meizu        3927\n",
              "nokia        1599\n",
              "sony         1410\n",
              "honor        1279\n",
              "oneplus      1124\n",
              "tp-link       943\n",
              "prestigio     545\n",
              "inoi          400\n",
              "lg            364\n",
              "zte           285\n",
              "haier         278\n",
              "tecno         250\n",
              "bq            202\n",
              "umi           173"
            ],
            "text/html": [
              "\n",
              "  <div id=\"df-4084f50b-edaf-4d8e-af45-f5a1c1570bd6\">\n",
              "    <div class=\"colab-df-container\">\n",
              "      <div>\n",
              "<style scoped>\n",
              "    .dataframe tbody tr th:only-of-type {\n",
              "        vertical-align: middle;\n",
              "    }\n",
              "\n",
              "    .dataframe tbody tr th {\n",
              "        vertical-align: top;\n",
              "    }\n",
              "\n",
              "    .dataframe thead th {\n",
              "        text-align: right;\n",
              "    }\n",
              "</style>\n",
              "<table border=\"1\" class=\"dataframe\">\n",
              "  <thead>\n",
              "    <tr style=\"text-align: right;\">\n",
              "      <th></th>\n",
              "      <th>len</th>\n",
              "    </tr>\n",
              "    <tr>\n",
              "      <th>brand</th>\n",
              "      <th></th>\n",
              "    </tr>\n",
              "  </thead>\n",
              "  <tbody>\n",
              "    <tr>\n",
              "      <th>samsung</th>\n",
              "      <td>307735</td>\n",
              "    </tr>\n",
              "    <tr>\n",
              "      <th>apple</th>\n",
              "      <td>248502</td>\n",
              "    </tr>\n",
              "    <tr>\n",
              "      <th>xiaomi</th>\n",
              "      <td>88894</td>\n",
              "    </tr>\n",
              "    <tr>\n",
              "      <th>huawei</th>\n",
              "      <td>44094</td>\n",
              "    </tr>\n",
              "    <tr>\n",
              "      <th>oppo</th>\n",
              "      <td>26182</td>\n",
              "    </tr>\n",
              "    <tr>\n",
              "      <th>vivo</th>\n",
              "      <td>4246</td>\n",
              "    </tr>\n",
              "    <tr>\n",
              "      <th>meizu</th>\n",
              "      <td>3927</td>\n",
              "    </tr>\n",
              "    <tr>\n",
              "      <th>nokia</th>\n",
              "      <td>1599</td>\n",
              "    </tr>\n",
              "    <tr>\n",
              "      <th>sony</th>\n",
              "      <td>1410</td>\n",
              "    </tr>\n",
              "    <tr>\n",
              "      <th>honor</th>\n",
              "      <td>1279</td>\n",
              "    </tr>\n",
              "    <tr>\n",
              "      <th>oneplus</th>\n",
              "      <td>1124</td>\n",
              "    </tr>\n",
              "    <tr>\n",
              "      <th>tp-link</th>\n",
              "      <td>943</td>\n",
              "    </tr>\n",
              "    <tr>\n",
              "      <th>prestigio</th>\n",
              "      <td>545</td>\n",
              "    </tr>\n",
              "    <tr>\n",
              "      <th>inoi</th>\n",
              "      <td>400</td>\n",
              "    </tr>\n",
              "    <tr>\n",
              "      <th>lg</th>\n",
              "      <td>364</td>\n",
              "    </tr>\n",
              "    <tr>\n",
              "      <th>zte</th>\n",
              "      <td>285</td>\n",
              "    </tr>\n",
              "    <tr>\n",
              "      <th>haier</th>\n",
              "      <td>278</td>\n",
              "    </tr>\n",
              "    <tr>\n",
              "      <th>tecno</th>\n",
              "      <td>250</td>\n",
              "    </tr>\n",
              "    <tr>\n",
              "      <th>bq</th>\n",
              "      <td>202</td>\n",
              "    </tr>\n",
              "    <tr>\n",
              "      <th>umi</th>\n",
              "      <td>173</td>\n",
              "    </tr>\n",
              "  </tbody>\n",
              "</table>\n",
              "</div>\n",
              "      <button class=\"colab-df-convert\" onclick=\"convertToInteractive('df-4084f50b-edaf-4d8e-af45-f5a1c1570bd6')\"\n",
              "              title=\"Convert this dataframe to an interactive table.\"\n",
              "              style=\"display:none;\">\n",
              "        \n",
              "  <svg xmlns=\"http://www.w3.org/2000/svg\" height=\"24px\"viewBox=\"0 0 24 24\"\n",
              "       width=\"24px\">\n",
              "    <path d=\"M0 0h24v24H0V0z\" fill=\"none\"/>\n",
              "    <path d=\"M18.56 5.44l.94 2.06.94-2.06 2.06-.94-2.06-.94-.94-2.06-.94 2.06-2.06.94zm-11 1L8.5 8.5l.94-2.06 2.06-.94-2.06-.94L8.5 2.5l-.94 2.06-2.06.94zm10 10l.94 2.06.94-2.06 2.06-.94-2.06-.94-.94-2.06-.94 2.06-2.06.94z\"/><path d=\"M17.41 7.96l-1.37-1.37c-.4-.4-.92-.59-1.43-.59-.52 0-1.04.2-1.43.59L10.3 9.45l-7.72 7.72c-.78.78-.78 2.05 0 2.83L4 21.41c.39.39.9.59 1.41.59.51 0 1.02-.2 1.41-.59l7.78-7.78 2.81-2.81c.8-.78.8-2.07 0-2.86zM5.41 20L4 18.59l7.72-7.72 1.47 1.35L5.41 20z\"/>\n",
              "  </svg>\n",
              "      </button>\n",
              "      \n",
              "  <style>\n",
              "    .colab-df-container {\n",
              "      display:flex;\n",
              "      flex-wrap:wrap;\n",
              "      gap: 12px;\n",
              "    }\n",
              "\n",
              "    .colab-df-convert {\n",
              "      background-color: #E8F0FE;\n",
              "      border: none;\n",
              "      border-radius: 50%;\n",
              "      cursor: pointer;\n",
              "      display: none;\n",
              "      fill: #1967D2;\n",
              "      height: 32px;\n",
              "      padding: 0 0 0 0;\n",
              "      width: 32px;\n",
              "    }\n",
              "\n",
              "    .colab-df-convert:hover {\n",
              "      background-color: #E2EBFA;\n",
              "      box-shadow: 0px 1px 2px rgba(60, 64, 67, 0.3), 0px 1px 3px 1px rgba(60, 64, 67, 0.15);\n",
              "      fill: #174EA6;\n",
              "    }\n",
              "\n",
              "    [theme=dark] .colab-df-convert {\n",
              "      background-color: #3B4455;\n",
              "      fill: #D2E3FC;\n",
              "    }\n",
              "\n",
              "    [theme=dark] .colab-df-convert:hover {\n",
              "      background-color: #434B5C;\n",
              "      box-shadow: 0px 1px 3px 1px rgba(0, 0, 0, 0.15);\n",
              "      filter: drop-shadow(0px 1px 2px rgba(0, 0, 0, 0.3));\n",
              "      fill: #FFFFFF;\n",
              "    }\n",
              "  </style>\n",
              "\n",
              "      <script>\n",
              "        const buttonEl =\n",
              "          document.querySelector('#df-4084f50b-edaf-4d8e-af45-f5a1c1570bd6 button.colab-df-convert');\n",
              "        buttonEl.style.display =\n",
              "          google.colab.kernel.accessAllowed ? 'block' : 'none';\n",
              "\n",
              "        async function convertToInteractive(key) {\n",
              "          const element = document.querySelector('#df-4084f50b-edaf-4d8e-af45-f5a1c1570bd6');\n",
              "          const dataTable =\n",
              "            await google.colab.kernel.invokeFunction('convertToInteractive',\n",
              "                                                     [key], {});\n",
              "          if (!dataTable) return;\n",
              "\n",
              "          const docLinkHtml = 'Like what you see? Visit the ' +\n",
              "            '<a target=\"_blank\" href=https://colab.research.google.com/notebooks/data_table.ipynb>data table notebook</a>'\n",
              "            + ' to learn more about interactive tables.';\n",
              "          element.innerHTML = '';\n",
              "          dataTable['output_type'] = 'display_data';\n",
              "          await google.colab.output.renderOutput(dataTable, element);\n",
              "          const docLink = document.createElement('div');\n",
              "          docLink.innerHTML = docLinkHtml;\n",
              "          element.appendChild(docLink);\n",
              "        }\n",
              "      </script>\n",
              "    </div>\n",
              "  </div>\n",
              "  "
            ]
          },
          "metadata": {},
          "execution_count": 12
        }
      ]
    },
    {
      "cell_type": "markdown",
      "source": [
        "User-journey:"
      ],
      "metadata": {
        "id": "HhaSOHU6KYKs"
      }
    },
    {
      "cell_type": "markdown",
      "source": [
        "Este es un ejemplo de como navega un comprador y que se poddría analizar con este dataset\n",
        "\n",
        "Se puede ver como:\n",
        "\n",
        "    El usuario ve diferentes iphones\n",
        "    Coonpra uno con 1click(no lo guardar en el carro)\n",
        "    Ve dos productos de la marca Arena\n",
        "    Mira dos headphones y se compra uno de ellos. Después antes de salir mira unos cascos que no compra\n",
        "    \n"
      ],
      "metadata": {
        "id": "CHGAOqvwKdNF"
      }
    },
    {
      "cell_type": "code",
      "source": [
        "df1.loc[df1.user_session == \"3c80f0d6-e9ec-4181-8c5c-837a30be2d68\"].sort_values(by='event_time')"
      ],
      "metadata": {
        "colab": {
          "base_uri": "https://localhost:8080/",
          "height": 840
        },
        "id": "Phb-Yi7oIdjN",
        "outputId": "0192a411-daab-4f45-a2af-47e7e10e2342"
      },
      "execution_count": null,
      "outputs": [
        {
          "output_type": "execute_result",
          "data": {
            "text/plain": [
              "                  event_time event_type  product_id          category_id  \\\n",
              "127  2019-10-01 00:01:45 UTC       view     1003305  2053013555631882655   \n",
              "152  2019-10-01 00:02:08 UTC       view     1002528  2053013555631882655   \n",
              "200  2019-10-01 00:02:47 UTC       view     1002532  2053013555631882655   \n",
              "308  2019-10-01 00:04:37 UTC   purchase     1002532  2053013555631882655   \n",
              "328  2019-10-01 00:05:10 UTC       view     1002532  2053013555631882655   \n",
              "362  2019-10-01 00:05:46 UTC       view    41300118  2091727629378912491   \n",
              "383  2019-10-01 00:06:07 UTC       view    41300138  2091727629378912491   \n",
              "530  2019-10-01 00:08:53 UTC       view     4804056  2053013554658804075   \n",
              "569  2019-10-01 00:09:24 UTC       view     4804056  2053013554658804075   \n",
              "603  2019-10-01 00:09:54 UTC   purchase     4804056  2053013554658804075   \n",
              "667  2019-10-01 00:10:52 UTC       view     4802036  2053013554658804075   \n",
              "\n",
              "                   category_code  brand   price    user_id  \\\n",
              "127       electronics.smartphone  apple  612.43  551377651   \n",
              "152       electronics.smartphone  apple  643.23  551377651   \n",
              "200       electronics.smartphone  apple  642.69  551377651   \n",
              "308       electronics.smartphone  apple  642.69  551377651   \n",
              "328       electronics.smartphone  apple  642.69  551377651   \n",
              "362                          NaN  arena   48.65  551377651   \n",
              "383                          NaN  arena  411.59  551377651   \n",
              "530  electronics.audio.headphone  apple  161.98  551377651   \n",
              "569  electronics.audio.headphone  apple  161.98  551377651   \n",
              "603  electronics.audio.headphone  apple  161.98  551377651   \n",
              "667  electronics.audio.headphone  apple  171.56  551377651   \n",
              "\n",
              "                             user_session  \n",
              "127  3c80f0d6-e9ec-4181-8c5c-837a30be2d68  \n",
              "152  3c80f0d6-e9ec-4181-8c5c-837a30be2d68  \n",
              "200  3c80f0d6-e9ec-4181-8c5c-837a30be2d68  \n",
              "308  3c80f0d6-e9ec-4181-8c5c-837a30be2d68  \n",
              "328  3c80f0d6-e9ec-4181-8c5c-837a30be2d68  \n",
              "362  3c80f0d6-e9ec-4181-8c5c-837a30be2d68  \n",
              "383  3c80f0d6-e9ec-4181-8c5c-837a30be2d68  \n",
              "530  3c80f0d6-e9ec-4181-8c5c-837a30be2d68  \n",
              "569  3c80f0d6-e9ec-4181-8c5c-837a30be2d68  \n",
              "603  3c80f0d6-e9ec-4181-8c5c-837a30be2d68  \n",
              "667  3c80f0d6-e9ec-4181-8c5c-837a30be2d68  "
            ],
            "text/html": [
              "\n",
              "  <div id=\"df-fb2874fb-4d34-4230-bcdd-3ca00549d7c3\">\n",
              "    <div class=\"colab-df-container\">\n",
              "      <div>\n",
              "<style scoped>\n",
              "    .dataframe tbody tr th:only-of-type {\n",
              "        vertical-align: middle;\n",
              "    }\n",
              "\n",
              "    .dataframe tbody tr th {\n",
              "        vertical-align: top;\n",
              "    }\n",
              "\n",
              "    .dataframe thead th {\n",
              "        text-align: right;\n",
              "    }\n",
              "</style>\n",
              "<table border=\"1\" class=\"dataframe\">\n",
              "  <thead>\n",
              "    <tr style=\"text-align: right;\">\n",
              "      <th></th>\n",
              "      <th>event_time</th>\n",
              "      <th>event_type</th>\n",
              "      <th>product_id</th>\n",
              "      <th>category_id</th>\n",
              "      <th>category_code</th>\n",
              "      <th>brand</th>\n",
              "      <th>price</th>\n",
              "      <th>user_id</th>\n",
              "      <th>user_session</th>\n",
              "    </tr>\n",
              "  </thead>\n",
              "  <tbody>\n",
              "    <tr>\n",
              "      <th>127</th>\n",
              "      <td>2019-10-01 00:01:45 UTC</td>\n",
              "      <td>view</td>\n",
              "      <td>1003305</td>\n",
              "      <td>2053013555631882655</td>\n",
              "      <td>electronics.smartphone</td>\n",
              "      <td>apple</td>\n",
              "      <td>612.43</td>\n",
              "      <td>551377651</td>\n",
              "      <td>3c80f0d6-e9ec-4181-8c5c-837a30be2d68</td>\n",
              "    </tr>\n",
              "    <tr>\n",
              "      <th>152</th>\n",
              "      <td>2019-10-01 00:02:08 UTC</td>\n",
              "      <td>view</td>\n",
              "      <td>1002528</td>\n",
              "      <td>2053013555631882655</td>\n",
              "      <td>electronics.smartphone</td>\n",
              "      <td>apple</td>\n",
              "      <td>643.23</td>\n",
              "      <td>551377651</td>\n",
              "      <td>3c80f0d6-e9ec-4181-8c5c-837a30be2d68</td>\n",
              "    </tr>\n",
              "    <tr>\n",
              "      <th>200</th>\n",
              "      <td>2019-10-01 00:02:47 UTC</td>\n",
              "      <td>view</td>\n",
              "      <td>1002532</td>\n",
              "      <td>2053013555631882655</td>\n",
              "      <td>electronics.smartphone</td>\n",
              "      <td>apple</td>\n",
              "      <td>642.69</td>\n",
              "      <td>551377651</td>\n",
              "      <td>3c80f0d6-e9ec-4181-8c5c-837a30be2d68</td>\n",
              "    </tr>\n",
              "    <tr>\n",
              "      <th>308</th>\n",
              "      <td>2019-10-01 00:04:37 UTC</td>\n",
              "      <td>purchase</td>\n",
              "      <td>1002532</td>\n",
              "      <td>2053013555631882655</td>\n",
              "      <td>electronics.smartphone</td>\n",
              "      <td>apple</td>\n",
              "      <td>642.69</td>\n",
              "      <td>551377651</td>\n",
              "      <td>3c80f0d6-e9ec-4181-8c5c-837a30be2d68</td>\n",
              "    </tr>\n",
              "    <tr>\n",
              "      <th>328</th>\n",
              "      <td>2019-10-01 00:05:10 UTC</td>\n",
              "      <td>view</td>\n",
              "      <td>1002532</td>\n",
              "      <td>2053013555631882655</td>\n",
              "      <td>electronics.smartphone</td>\n",
              "      <td>apple</td>\n",
              "      <td>642.69</td>\n",
              "      <td>551377651</td>\n",
              "      <td>3c80f0d6-e9ec-4181-8c5c-837a30be2d68</td>\n",
              "    </tr>\n",
              "    <tr>\n",
              "      <th>362</th>\n",
              "      <td>2019-10-01 00:05:46 UTC</td>\n",
              "      <td>view</td>\n",
              "      <td>41300118</td>\n",
              "      <td>2091727629378912491</td>\n",
              "      <td>NaN</td>\n",
              "      <td>arena</td>\n",
              "      <td>48.65</td>\n",
              "      <td>551377651</td>\n",
              "      <td>3c80f0d6-e9ec-4181-8c5c-837a30be2d68</td>\n",
              "    </tr>\n",
              "    <tr>\n",
              "      <th>383</th>\n",
              "      <td>2019-10-01 00:06:07 UTC</td>\n",
              "      <td>view</td>\n",
              "      <td>41300138</td>\n",
              "      <td>2091727629378912491</td>\n",
              "      <td>NaN</td>\n",
              "      <td>arena</td>\n",
              "      <td>411.59</td>\n",
              "      <td>551377651</td>\n",
              "      <td>3c80f0d6-e9ec-4181-8c5c-837a30be2d68</td>\n",
              "    </tr>\n",
              "    <tr>\n",
              "      <th>530</th>\n",
              "      <td>2019-10-01 00:08:53 UTC</td>\n",
              "      <td>view</td>\n",
              "      <td>4804056</td>\n",
              "      <td>2053013554658804075</td>\n",
              "      <td>electronics.audio.headphone</td>\n",
              "      <td>apple</td>\n",
              "      <td>161.98</td>\n",
              "      <td>551377651</td>\n",
              "      <td>3c80f0d6-e9ec-4181-8c5c-837a30be2d68</td>\n",
              "    </tr>\n",
              "    <tr>\n",
              "      <th>569</th>\n",
              "      <td>2019-10-01 00:09:24 UTC</td>\n",
              "      <td>view</td>\n",
              "      <td>4804056</td>\n",
              "      <td>2053013554658804075</td>\n",
              "      <td>electronics.audio.headphone</td>\n",
              "      <td>apple</td>\n",
              "      <td>161.98</td>\n",
              "      <td>551377651</td>\n",
              "      <td>3c80f0d6-e9ec-4181-8c5c-837a30be2d68</td>\n",
              "    </tr>\n",
              "    <tr>\n",
              "      <th>603</th>\n",
              "      <td>2019-10-01 00:09:54 UTC</td>\n",
              "      <td>purchase</td>\n",
              "      <td>4804056</td>\n",
              "      <td>2053013554658804075</td>\n",
              "      <td>electronics.audio.headphone</td>\n",
              "      <td>apple</td>\n",
              "      <td>161.98</td>\n",
              "      <td>551377651</td>\n",
              "      <td>3c80f0d6-e9ec-4181-8c5c-837a30be2d68</td>\n",
              "    </tr>\n",
              "    <tr>\n",
              "      <th>667</th>\n",
              "      <td>2019-10-01 00:10:52 UTC</td>\n",
              "      <td>view</td>\n",
              "      <td>4802036</td>\n",
              "      <td>2053013554658804075</td>\n",
              "      <td>electronics.audio.headphone</td>\n",
              "      <td>apple</td>\n",
              "      <td>171.56</td>\n",
              "      <td>551377651</td>\n",
              "      <td>3c80f0d6-e9ec-4181-8c5c-837a30be2d68</td>\n",
              "    </tr>\n",
              "  </tbody>\n",
              "</table>\n",
              "</div>\n",
              "      <button class=\"colab-df-convert\" onclick=\"convertToInteractive('df-fb2874fb-4d34-4230-bcdd-3ca00549d7c3')\"\n",
              "              title=\"Convert this dataframe to an interactive table.\"\n",
              "              style=\"display:none;\">\n",
              "        \n",
              "  <svg xmlns=\"http://www.w3.org/2000/svg\" height=\"24px\"viewBox=\"0 0 24 24\"\n",
              "       width=\"24px\">\n",
              "    <path d=\"M0 0h24v24H0V0z\" fill=\"none\"/>\n",
              "    <path d=\"M18.56 5.44l.94 2.06.94-2.06 2.06-.94-2.06-.94-.94-2.06-.94 2.06-2.06.94zm-11 1L8.5 8.5l.94-2.06 2.06-.94-2.06-.94L8.5 2.5l-.94 2.06-2.06.94zm10 10l.94 2.06.94-2.06 2.06-.94-2.06-.94-.94-2.06-.94 2.06-2.06.94z\"/><path d=\"M17.41 7.96l-1.37-1.37c-.4-.4-.92-.59-1.43-.59-.52 0-1.04.2-1.43.59L10.3 9.45l-7.72 7.72c-.78.78-.78 2.05 0 2.83L4 21.41c.39.39.9.59 1.41.59.51 0 1.02-.2 1.41-.59l7.78-7.78 2.81-2.81c.8-.78.8-2.07 0-2.86zM5.41 20L4 18.59l7.72-7.72 1.47 1.35L5.41 20z\"/>\n",
              "  </svg>\n",
              "      </button>\n",
              "      \n",
              "  <style>\n",
              "    .colab-df-container {\n",
              "      display:flex;\n",
              "      flex-wrap:wrap;\n",
              "      gap: 12px;\n",
              "    }\n",
              "\n",
              "    .colab-df-convert {\n",
              "      background-color: #E8F0FE;\n",
              "      border: none;\n",
              "      border-radius: 50%;\n",
              "      cursor: pointer;\n",
              "      display: none;\n",
              "      fill: #1967D2;\n",
              "      height: 32px;\n",
              "      padding: 0 0 0 0;\n",
              "      width: 32px;\n",
              "    }\n",
              "\n",
              "    .colab-df-convert:hover {\n",
              "      background-color: #E2EBFA;\n",
              "      box-shadow: 0px 1px 2px rgba(60, 64, 67, 0.3), 0px 1px 3px 1px rgba(60, 64, 67, 0.15);\n",
              "      fill: #174EA6;\n",
              "    }\n",
              "\n",
              "    [theme=dark] .colab-df-convert {\n",
              "      background-color: #3B4455;\n",
              "      fill: #D2E3FC;\n",
              "    }\n",
              "\n",
              "    [theme=dark] .colab-df-convert:hover {\n",
              "      background-color: #434B5C;\n",
              "      box-shadow: 0px 1px 3px 1px rgba(0, 0, 0, 0.15);\n",
              "      filter: drop-shadow(0px 1px 2px rgba(0, 0, 0, 0.3));\n",
              "      fill: #FFFFFF;\n",
              "    }\n",
              "  </style>\n",
              "\n",
              "      <script>\n",
              "        const buttonEl =\n",
              "          document.querySelector('#df-fb2874fb-4d34-4230-bcdd-3ca00549d7c3 button.colab-df-convert');\n",
              "        buttonEl.style.display =\n",
              "          google.colab.kernel.accessAllowed ? 'block' : 'none';\n",
              "\n",
              "        async function convertToInteractive(key) {\n",
              "          const element = document.querySelector('#df-fb2874fb-4d34-4230-bcdd-3ca00549d7c3');\n",
              "          const dataTable =\n",
              "            await google.colab.kernel.invokeFunction('convertToInteractive',\n",
              "                                                     [key], {});\n",
              "          if (!dataTable) return;\n",
              "\n",
              "          const docLinkHtml = 'Like what you see? Visit the ' +\n",
              "            '<a target=\"_blank\" href=https://colab.research.google.com/notebooks/data_table.ipynb>data table notebook</a>'\n",
              "            + ' to learn more about interactive tables.';\n",
              "          element.innerHTML = '';\n",
              "          dataTable['output_type'] = 'display_data';\n",
              "          await google.colab.output.renderOutput(dataTable, element);\n",
              "          const docLink = document.createElement('div');\n",
              "          docLink.innerHTML = docLinkHtml;\n",
              "          element.appendChild(docLink);\n",
              "        }\n",
              "      </script>\n",
              "    </div>\n",
              "  </div>\n",
              "  "
            ]
          },
          "metadata": {},
          "execution_count": 16
        }
      ]
    },
    {
      "cell_type": "code",
      "source": [
        ""
      ],
      "metadata": {
        "id": "efIDA5AuY-Ut"
      },
      "execution_count": null,
      "outputs": []
    }
  ]
}
