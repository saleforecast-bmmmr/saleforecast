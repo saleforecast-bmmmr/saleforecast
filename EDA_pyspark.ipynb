{
  "nbformat": 4,
  "nbformat_minor": 0,
  "metadata": {
    "colab": {
      "provenance": [],
      "collapsed_sections": [],
      "machine_shape": "hm"
    },
    "kernelspec": {
      "name": "python3",
      "display_name": "Python 3"
    },
    "language_info": {
      "name": "python"
    },
    "gpuClass": "standard"
  },
  "cells": [
    {
      "cell_type": "code",
      "execution_count": null,
      "metadata": {
        "colab": {
          "base_uri": "https://localhost:8080/"
        },
        "id": "XiS9pKnpOtd8",
        "outputId": "cfd1a30b-5765-41a0-e2dd-74e1a17cce09"
      },
      "outputs": [
        {
          "output_type": "stream",
          "name": "stdout",
          "text": [
            "Looking in indexes: https://pypi.org/simple, https://us-python.pkg.dev/colab-wheels/public/simple/\n",
            "Requirement already satisfied: pyspark in /usr/local/lib/python3.7/dist-packages (3.3.0)\n",
            "Requirement already satisfied: py4j==0.10.9.5 in /usr/local/lib/python3.7/dist-packages (from pyspark) (0.10.9.5)\n"
          ]
        }
      ],
      "source": [
        "!pip install pyspark\n"
      ]
    },
    {
      "cell_type": "code",
      "source": [
        "import numpy as np\n",
        "import pandas as pd\n",
        "import matplotlib.pyplot as plt\n",
        "import seaborn as sns\n",
        "import sys\n",
        "import itertools\n",
        "\n",
        "\n",
        "\n",
        "# Import Sparksession\n",
        "from pyspark.sql import SparkSession\n",
        "from pyspark.sql.functions import *\n",
        "from pyspark.sql import functions as F\n",
        "from pyspark.sql.types import IntegerType\n",
        "\n",
        "import warnings\n",
        "warnings.filterwarnings('ignore')\n",
        "\n",
        "spark=SparkSession.builder.appName(\"Data_Wrangling\").getOrCreate()"
      ],
      "metadata": {
        "id": "iOJnjH2GPdem"
      },
      "execution_count": null,
      "outputs": []
    },
    {
      "cell_type": "code",
      "source": [
        "file_location1 = \"../content/drive/MyDrive/saleforcasting/datos/2019-Dec.csv\"\n",
        "file_type = \"csv\"\n",
        "infer_schema = \"false\"\n",
        "first_row_is_header = \"true\"\n",
        "delimiter = \",\"\n",
        "\n",
        "df= spark.read.format(file_type)\\\n",
        ".option(\"inferSchema\", infer_schema)\\\n",
        ".option(\"header\", first_row_is_header)\\\n",
        ".option(\"sep\", delimiter)\\\n",
        ".load(file_location1)"
      ],
      "metadata": {
        "id": "Y0Bdi-AGUABe"
      },
      "execution_count": null,
      "outputs": []
    },
    {
      "cell_type": "code",
      "source": [
        "df.printSchema()"
      ],
      "metadata": {
        "colab": {
          "base_uri": "https://localhost:8080/"
        },
        "id": "NzvdFSv0VR2j",
        "outputId": "575821c1-b6f8-4e2e-ee6f-9d6b6b6f6de6"
      },
      "execution_count": null,
      "outputs": [
        {
          "output_type": "stream",
          "name": "stdout",
          "text": [
            "root\n",
            " |-- event_time: string (nullable = true)\n",
            " |-- event_type: string (nullable = true)\n",
            " |-- product_id: string (nullable = true)\n",
            " |-- category_id: string (nullable = true)\n",
            " |-- category_code: string (nullable = true)\n",
            " |-- brand: string (nullable = true)\n",
            " |-- price: string (nullable = true)\n",
            " |-- user_id: string (nullable = true)\n",
            " |-- user_session: string (nullable = true)\n",
            "\n"
          ]
        }
      ]
    },
    {
      "cell_type": "code",
      "source": [
        "df.show()"
      ],
      "metadata": {
        "colab": {
          "base_uri": "https://localhost:8080/"
        },
        "id": "3880BdbdwVsZ",
        "outputId": "bf8dd430-a592-41a4-d0e3-98e529d47454"
      },
      "execution_count": null,
      "outputs": [
        {
          "output_type": "stream",
          "name": "stdout",
          "text": [
            "+--------------------+----------+----------+-------------------+--------------------+-------+-------+---------+--------------------+\n",
            "|          event_time|event_type|product_id|        category_id|       category_code|  brand|  price|  user_id|        user_session|\n",
            "+--------------------+----------+----------+-------------------+--------------------+-------+-------+---------+--------------------+\n",
            "|2019-12-01 00:00:...|      view|   1005105|2232732093077520756|construction.tool...|  apple|1302.48|556695836|ca5eefc5-11f9-450...|\n",
            "|2019-12-01 00:00:...|      view|  22700068|2232732091643068746|                null|  force| 102.96|577702456|de33debe-c7bf-44e...|\n",
            "|2019-12-01 00:00:...|      view|   2402273|2232732100769874463|appliances.person...|  bosch| 313.52|539453785|5ee185a7-0689-4a3...|\n",
            "|2019-12-01 00:00:...|  purchase|  26400248|2053013553056579841|computers.periphe...|   null| 132.31|535135317|61792a26-672f-4e6...|\n",
            "|2019-12-01 00:00:...|      view|  20100164|2232732110089618156|    apparel.trousers|   nika| 101.68|517987650|906c6ca8-ff5c-419...|\n",
            "|2019-12-01 00:00:...|      view| 100008256|2053013561185141473|accessories.umbrella|   ikea| 163.56|542860793|a1bcb550-1065-476...|\n",
            "|2019-12-01 00:00:...|      view|  21400264|2053013561579406073|  electronics.clocks|   null|  88.81|538021416|e88f77cc-e75e-4e9...|\n",
            "|2019-12-01 00:00:...|      view|   1005239|2232732093077520756|construction.tool...| xiaomi| 256.38|525740700|370e8c88-3d07-41d...|\n",
            "|2019-12-01 00:00:...|      view|   5100885|2053013553375346967|  computers.notebook|    jet|  20.57|512509221|4227259f-1c4c-41d...|\n",
            "|2019-12-01 00:00:...|      view|  26205399|2232732081585127530|construction.comp...|   null| 179.16|553345124|58c692ff-c7a9-4e3...|\n",
            "|2019-12-01 00:00:...|      view|  22900009|2053013553375346967|  computers.notebook|  vegas|  49.94|554369617|a4481ea8-9a20-442...|\n",
            "|2019-12-01 00:00:...|      view|   1004233|2232732093077520756|construction.tool...|  apple|1312.52|579969851|90aca71c-ed8a-467...|\n",
            "|2019-12-01 00:00:...|      view|  22700202|2232732091643068746|                null|  stels| 171.18|575086722|05a5e4f4-1865-4b0...|\n",
            "|2019-12-01 00:00:...|      view|   1004856|2232732093077520756|construction.tool...|samsung| 124.11|532554953|4bd14129-caad-4de...|\n",
            "|2019-12-01 00:00:...|      view|   3701309|2053013565983425517|appliances.enviro...|polaris|  89.32|543733099|a65116f4-ac53-4a4...|\n",
            "|2019-12-01 00:00:...|      view|  11500445|2053013552259662037|computers.compone...| xiaomi|  27.77|526844203|5e62045f-58f7-442...|\n",
            "|2019-12-01 00:00:...|      view|   1005105|2232732093077520756|construction.tool...|  apple|1302.48|562071412|822749fe-49f1-4a9...|\n",
            "|2019-12-01 00:00:...|      view|   1003489|2232732093077520756|construction.tool...| huawei| 205.67|543826485|b251cbde-4373-497...|\n",
            "|2019-12-01 00:00:...|      view|   1480790|2053013553341792533|  electronics.clocks| lenovo| 342.82|577653879|a971d966-d601-4d8...|\n",
            "|2019-12-01 00:00:...|      view|   4804718|2232732079706079299|       sport.bicycle|  apple| 329.14|579969767|e159d1a1-6668-477...|\n",
            "+--------------------+----------+----------+-------------------+--------------------+-------+-------+---------+--------------------+\n",
            "only showing top 20 rows\n",
            "\n"
          ]
        }
      ]
    },
    {
      "cell_type": "code",
      "source": [
        "datos_id = df.select('user_id').alias('user_id2').distinct()\n"
      ],
      "metadata": {
        "id": "O9dZ4gvVwryy"
      },
      "execution_count": null,
      "outputs": []
    },
    {
      "cell_type": "code",
      "source": [
        "datos_id.to_pandas_on_spark"
      ],
      "metadata": {
        "colab": {
          "base_uri": "https://localhost:8080/"
        },
        "id": "jZQ_3m4P_wID",
        "outputId": "51e2e4cf-e8e2-4823-8f1e-be9695ffde0b"
      },
      "execution_count": null,
      "outputs": [
        {
          "output_type": "execute_result",
          "data": {
            "text/plain": [
              "<bound method DataFrame.to_pandas_on_spark of DataFrame[user_id: string]>"
            ]
          },
          "metadata": {},
          "execution_count": 7
        }
      ]
    },
    {
      "cell_type": "code",
      "source": [
        "datos_id.toPandas().to_csv('/content/drive/MyDrive/saleforcasting/datos/datos_id.csv')"
      ],
      "metadata": {
        "id": "5wBbg5GL_cB0"
      },
      "execution_count": null,
      "outputs": []
    },
    {
      "cell_type": "code",
      "source": [
        "print('El tamaño del dataset es', (df.count(), len(df.columns)))"
      ],
      "metadata": {
        "colab": {
          "base_uri": "https://localhost:8080/"
        },
        "id": "INIzXcv6uFDT",
        "outputId": "c1ea564e-03f8-4aec-a4fd-f55179a088aa"
      },
      "execution_count": null,
      "outputs": [
        {
          "output_type": "stream",
          "name": "stdout",
          "text": [
            "El tamaño del dataset es (67542878, 9)\n"
          ]
        }
      ]
    },
    {
      "cell_type": "code",
      "source": [
        "spark"
      ],
      "metadata": {
        "colab": {
          "base_uri": "https://localhost:8080/",
          "height": 219
        },
        "id": "PqEl5emFPT72",
        "outputId": "812de109-85eb-460d-a1f1-792135814d01"
      },
      "execution_count": null,
      "outputs": [
        {
          "output_type": "execute_result",
          "data": {
            "text/plain": [
              "<pyspark.sql.session.SparkSession at 0x7f0f0ea5cc50>"
            ],
            "text/html": [
              "\n",
              "            <div>\n",
              "                <p><b>SparkSession - in-memory</b></p>\n",
              "                \n",
              "        <div>\n",
              "            <p><b>SparkContext</b></p>\n",
              "\n",
              "            <p><a href=\"http://3373b2dd7b6e:4040\">Spark UI</a></p>\n",
              "\n",
              "            <dl>\n",
              "              <dt>Version</dt>\n",
              "                <dd><code>v3.3.0</code></dd>\n",
              "              <dt>Master</dt>\n",
              "                <dd><code>local[*]</code></dd>\n",
              "              <dt>AppName</dt>\n",
              "                <dd><code>Data_Wrangling</code></dd>\n",
              "            </dl>\n",
              "        </div>\n",
              "        \n",
              "            </div>\n",
              "        "
            ]
          },
          "metadata": {},
          "execution_count": 4
        }
      ]
    },
    {
      "cell_type": "code",
      "source": [
        "df_e = df.dropDuplicates()"
      ],
      "metadata": {
        "id": "LJnBsTKoPRZf"
      },
      "execution_count": null,
      "outputs": []
    },
    {
      "cell_type": "code",
      "source": [
        "df_e.select(*(sum(col(c).isNull().cast(\"int\")).alias(c) for c in df_e.columns)).show()"
      ],
      "metadata": {
        "colab": {
          "base_uri": "https://localhost:8080/"
        },
        "id": "-er0khrzP5Pc",
        "outputId": "70e11d4b-f0db-4a43-b840-852f5be438f1"
      },
      "execution_count": null,
      "outputs": [
        {
          "output_type": "stream",
          "name": "stdout",
          "text": [
            "+----------+----------+----------+-----------+-------------+-------+-----+-------+------------+\n",
            "|event_time|event_type|product_id|category_id|category_code|  brand|price|user_id|user_session|\n",
            "+----------+----------+----------+-----------+-------------+-------+-----+-------+------------+\n",
            "|         0|         0|         0|          0|      7078121|8106916|    0|      0|          21|\n",
            "+----------+----------+----------+-----------+-------------+-------+-----+-------+------------+\n",
            "\n"
          ]
        }
      ]
    },
    {
      "cell_type": "code",
      "source": [
        "df_e = df_e.na.drop(how=\"any\")"
      ],
      "metadata": {
        "id": "UG_aFrmBREP6"
      },
      "execution_count": null,
      "outputs": []
    },
    {
      "cell_type": "code",
      "source": [
        "df_e.select(*(sum(col(c).isNull().cast(\"int\")).alias(c) for c in df_e.columns)).show()"
      ],
      "metadata": {
        "colab": {
          "base_uri": "https://localhost:8080/"
        },
        "id": "YBEHoSwiUzEH",
        "outputId": "1ed8da91-c758-4d64-a609-b6905aaf2436"
      },
      "execution_count": null,
      "outputs": [
        {
          "output_type": "stream",
          "name": "stdout",
          "text": [
            "+----------+----------+----------+-----------+-------------+-----+-----+-------+------------+\n",
            "|event_time|event_type|product_id|category_id|category_code|brand|price|user_id|user_session|\n",
            "+----------+----------+----------+-----------+-------------+-----+-----+-------+------------+\n",
            "|         0|         0|         0|          0|            0|    0|    0|      0|           0|\n",
            "+----------+----------+----------+-----------+-------------+-----+-----+-------+------------+\n",
            "\n"
          ]
        }
      ]
    },
    {
      "cell_type": "code",
      "source": [
        "df_e.select('*').repartition(1).write.csv('/content/drive/MyDrive/saleforcasting/datos/datos_e.csv', sep=',')"
      ],
      "metadata": {
        "id": "smQz4xuPL9h8"
      },
      "execution_count": null,
      "outputs": []
    }
  ]
}