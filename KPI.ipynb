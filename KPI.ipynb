{
  "nbformat": 4,
  "nbformat_minor": 0,
  "metadata": {
    "colab": {
      "provenance": [],
      "collapsed_sections": [],
      "machine_shape": "hm"
    },
    "kernelspec": {
      "name": "python3",
      "display_name": "Python 3"
    },
    "language_info": {
      "name": "python"
    },
    "gpuClass": "standard"
  },
  "cells": [
    {
      "cell_type": "markdown",
      "source": [
        "# Análisis eventos mes Diciembre"
      ],
      "metadata": {
        "id": "sTPJkdcFw5l7"
      }
    },
    {
      "cell_type": "code",
      "execution_count": null,
      "metadata": {
        "colab": {
          "base_uri": "https://localhost:8080/"
        },
        "id": "xzj7UM9gRnXr",
        "outputId": "45d8a223-70a4-4713-cdff-5a1c4248686f"
      },
      "outputs": [
        {
          "output_type": "stream",
          "name": "stdout",
          "text": [
            "Looking in indexes: https://pypi.org/simple, https://us-python.pkg.dev/colab-wheels/public/simple/\n",
            "Requirement already satisfied: squarify in /usr/local/lib/python3.7/dist-packages (0.4.3)\n",
            "Looking in indexes: https://pypi.org/simple, https://us-python.pkg.dev/colab-wheels/public/simple/\n",
            "Requirement already satisfied: statsmodels in /usr/local/lib/python3.7/dist-packages (0.12.2)\n",
            "Requirement already satisfied: scipy>=1.1 in /usr/local/lib/python3.7/dist-packages (from statsmodels) (1.7.3)\n",
            "Requirement already satisfied: patsy>=0.5 in /usr/local/lib/python3.7/dist-packages (from statsmodels) (0.5.2)\n",
            "Requirement already satisfied: pandas>=0.21 in /usr/local/lib/python3.7/dist-packages (from statsmodels) (1.3.5)\n",
            "Requirement already satisfied: numpy>=1.15 in /usr/local/lib/python3.7/dist-packages (from statsmodels) (1.21.6)\n",
            "Requirement already satisfied: pytz>=2017.3 in /usr/local/lib/python3.7/dist-packages (from pandas>=0.21->statsmodels) (2022.2.1)\n",
            "Requirement already satisfied: python-dateutil>=2.7.3 in /usr/local/lib/python3.7/dist-packages (from pandas>=0.21->statsmodels) (2.8.2)\n",
            "Requirement already satisfied: six in /usr/local/lib/python3.7/dist-packages (from patsy>=0.5->statsmodels) (1.15.0)\n"
          ]
        }
      ],
      "source": [
        "!pip install squarify\n",
        "!pip install statsmodels"
      ]
    },
    {
      "cell_type": "code",
      "source": [
        "\n",
        "import numpy as np \n",
        "import pandas as pd \n",
        "import os\n",
        "from statsmodels import api as sm\n",
        "import pylab as py\n",
        "import matplotlib.pyplot as plt\n",
        "import matplotlib.dates as dates\n",
        "from datetime import datetime\n",
        "import matplotlib.ticker as ticker\n",
        "import matplotlib.cm as cm\n",
        "import matplotlib as mpl\n",
        "from matplotlib.gridspec import GridSpec\n",
        "import seaborn as sns\n",
        "import squarify\n"
      ],
      "metadata": {
        "id": "hBg_MCASR0eA"
      },
      "execution_count": null,
      "outputs": []
    },
    {
      "cell_type": "code",
      "source": [
        "def reduce_mem_usage(df, verbose=True):\n",
        "    numerics = ['int16', 'int32', 'int64', 'float16', 'float32', 'float64']\n",
        "    start_mem = df.memory_usage().sum() / 1024**2\n",
        "    for col in df.columns:\n",
        "        col_type = df[col].dtypes\n",
        "        if col_type in numerics:\n",
        "            c_min = df[col].min()\n",
        "            c_max = df[col].max()\n",
        "            if str(col_type)[:3] == 'int':\n",
        "                if c_min > np.iinfo(np.int8).min and c_max < np.iinfo(np.int8).max:\n",
        "                    df[col] = df[col].astype(np.int8)\n",
        "                elif c_min > np.iinfo(np.int16).min and c_max < np.iinfo(np.int16).max:\n",
        "                    df[col] = df[col].astype(np.int16)\n",
        "                elif c_min > np.iinfo(np.int32).min and c_max < np.iinfo(np.int32).max:\n",
        "                    df[col] = df[col].astype(np.int32)\n",
        "                elif c_min > np.iinfo(np.int64).min and c_max < np.iinfo(np.int64).max:\n",
        "                    df[col] = df[col].astype(np.int64)\n",
        "            else:\n",
        "                if c_min > np.finfo(np.float16).min and c_max < np.finfo(np.float16).max:\n",
        "                    df[col] = df[col].astype(np.float16)\n",
        "                elif c_min > np.finfo(np.float32).min and c_max < np.finfo(np.float32).max:\n",
        "                    df[col] = df[col].astype(np.float32)\n",
        "                else:\n",
        "                    df[col] = df[col].astype(np.float64)\n",
        "\n",
        "    end_mem = df.memory_usage().sum() / 1024**2\n",
        "    print('Memory usage after optimization is: {:.2f} MB'.format(end_mem))\n",
        "    print('Decreased by {:.1f}%'.format(100 * (start_mem - end_mem) / start_mem))\n",
        "\n",
        "    return df"
      ],
      "metadata": {
        "id": "dXcGD6xRSBf3"
      },
      "execution_count": null,
      "outputs": []
    },
    {
      "cell_type": "code",
      "source": [
        "colnames= ['Fecha', 'evento_tipo', 'id_producto', 'id_categoria', 'codigo_categoria', 'marca', 'precio', 'id_sesion', 'usuario_sesion']\n",
        "df = pd.read_csv('/content/drive/MyDrive/saleforcasting/datos/datos_e.csv/part-00000-92c5c509-b354-42d2-829d-3b94539c5328-c000.csv', names = colnames, header = None)"
      ],
      "metadata": {
        "id": "BnMeeC_oSDJ0"
      },
      "execution_count": null,
      "outputs": []
    },
    {
      "cell_type": "markdown",
      "source": [],
      "metadata": {
        "id": "HRlJd5wEVo65"
      }
    },
    {
      "cell_type": "code",
      "source": [
        "df=reduce_mem_usage(df)"
      ],
      "metadata": {
        "colab": {
          "base_uri": "https://localhost:8080/"
        },
        "id": "tnw-Sq5pSVzQ",
        "outputId": "a92eb344-4483-46ce-ff85-6d59cd3b959c"
      },
      "execution_count": null,
      "outputs": [
        {
          "output_type": "stream",
          "name": "stdout",
          "text": [
            "Memory usage after optimization is: 2960.24 MB\n",
            "Decreased by 19.4%\n"
          ]
        }
      ]
    },
    {
      "cell_type": "code",
      "source": [
        "df.head()"
      ],
      "metadata": {
        "colab": {
          "base_uri": "https://localhost:8080/",
          "height": 206
        },
        "id": "bcwzdzPOSY7A",
        "outputId": "024e3d6b-7144-4bdd-acea-ee5ba8b1e8eb"
      },
      "execution_count": null,
      "outputs": [
        {
          "output_type": "execute_result",
          "data": {
            "text/plain": [
              "                     Fecha evento_tipo  id_producto         id_categoria  \\\n",
              "0  2019-12-24 18:26:12 UTC        view    100001784  2232732110643266300   \n",
              "1  2019-12-29 13:03:35 UTC        view     54100045  2232732127806357670   \n",
              "2  2019-12-13 15:18:03 UTC        view      4804137  2232732079706079299   \n",
              "3  2019-12-14 09:32:42 UTC        view    100018608  2053013554658804075   \n",
              "4  2019-12-16 18:10:40 UTC        cart      1801806  2232732099754852875   \n",
              "\n",
              "                codigo_categoria   marca     precio  id_sesion  \\\n",
              "0  country_yard.furniture.hammok    amen   37.78125  590514767   \n",
              "1                apparel.costume  dewalt  731.50000  520002923   \n",
              "2                  sport.bicycle  huawei  113.00000  531311000   \n",
              "3    electronics.audio.headphone    asus  360.25000  573100110   \n",
              "4   appliances.personal.massager   artel  123.12500  521312903   \n",
              "\n",
              "                         usuario_sesion  \n",
              "0  0000013c-0ccc-4b8a-a4f7-06ec6b4ce13a  \n",
              "1  00000f20-be94-4852-ae2e-217eb8be6212  \n",
              "2  0000220e-867e-4a5f-b01d-a03b23a54b80  \n",
              "3  0000378c-1b54-4c35-a8fa-1ad3fcb1dada  \n",
              "4  000075ec-17f9-4bb1-92fa-3e57d7dbf71e  "
            ],
            "text/html": [
              "\n",
              "  <div id=\"df-86fd9949-193e-498e-b768-bf19dbf03dab\">\n",
              "    <div class=\"colab-df-container\">\n",
              "      <div>\n",
              "<style scoped>\n",
              "    .dataframe tbody tr th:only-of-type {\n",
              "        vertical-align: middle;\n",
              "    }\n",
              "\n",
              "    .dataframe tbody tr th {\n",
              "        vertical-align: top;\n",
              "    }\n",
              "\n",
              "    .dataframe thead th {\n",
              "        text-align: right;\n",
              "    }\n",
              "</style>\n",
              "<table border=\"1\" class=\"dataframe\">\n",
              "  <thead>\n",
              "    <tr style=\"text-align: right;\">\n",
              "      <th></th>\n",
              "      <th>Fecha</th>\n",
              "      <th>evento_tipo</th>\n",
              "      <th>id_producto</th>\n",
              "      <th>id_categoria</th>\n",
              "      <th>codigo_categoria</th>\n",
              "      <th>marca</th>\n",
              "      <th>precio</th>\n",
              "      <th>id_sesion</th>\n",
              "      <th>usuario_sesion</th>\n",
              "    </tr>\n",
              "  </thead>\n",
              "  <tbody>\n",
              "    <tr>\n",
              "      <th>0</th>\n",
              "      <td>2019-12-24 18:26:12 UTC</td>\n",
              "      <td>view</td>\n",
              "      <td>100001784</td>\n",
              "      <td>2232732110643266300</td>\n",
              "      <td>country_yard.furniture.hammok</td>\n",
              "      <td>amen</td>\n",
              "      <td>37.78125</td>\n",
              "      <td>590514767</td>\n",
              "      <td>0000013c-0ccc-4b8a-a4f7-06ec6b4ce13a</td>\n",
              "    </tr>\n",
              "    <tr>\n",
              "      <th>1</th>\n",
              "      <td>2019-12-29 13:03:35 UTC</td>\n",
              "      <td>view</td>\n",
              "      <td>54100045</td>\n",
              "      <td>2232732127806357670</td>\n",
              "      <td>apparel.costume</td>\n",
              "      <td>dewalt</td>\n",
              "      <td>731.50000</td>\n",
              "      <td>520002923</td>\n",
              "      <td>00000f20-be94-4852-ae2e-217eb8be6212</td>\n",
              "    </tr>\n",
              "    <tr>\n",
              "      <th>2</th>\n",
              "      <td>2019-12-13 15:18:03 UTC</td>\n",
              "      <td>view</td>\n",
              "      <td>4804137</td>\n",
              "      <td>2232732079706079299</td>\n",
              "      <td>sport.bicycle</td>\n",
              "      <td>huawei</td>\n",
              "      <td>113.00000</td>\n",
              "      <td>531311000</td>\n",
              "      <td>0000220e-867e-4a5f-b01d-a03b23a54b80</td>\n",
              "    </tr>\n",
              "    <tr>\n",
              "      <th>3</th>\n",
              "      <td>2019-12-14 09:32:42 UTC</td>\n",
              "      <td>view</td>\n",
              "      <td>100018608</td>\n",
              "      <td>2053013554658804075</td>\n",
              "      <td>electronics.audio.headphone</td>\n",
              "      <td>asus</td>\n",
              "      <td>360.25000</td>\n",
              "      <td>573100110</td>\n",
              "      <td>0000378c-1b54-4c35-a8fa-1ad3fcb1dada</td>\n",
              "    </tr>\n",
              "    <tr>\n",
              "      <th>4</th>\n",
              "      <td>2019-12-16 18:10:40 UTC</td>\n",
              "      <td>cart</td>\n",
              "      <td>1801806</td>\n",
              "      <td>2232732099754852875</td>\n",
              "      <td>appliances.personal.massager</td>\n",
              "      <td>artel</td>\n",
              "      <td>123.12500</td>\n",
              "      <td>521312903</td>\n",
              "      <td>000075ec-17f9-4bb1-92fa-3e57d7dbf71e</td>\n",
              "    </tr>\n",
              "  </tbody>\n",
              "</table>\n",
              "</div>\n",
              "      <button class=\"colab-df-convert\" onclick=\"convertToInteractive('df-86fd9949-193e-498e-b768-bf19dbf03dab')\"\n",
              "              title=\"Convert this dataframe to an interactive table.\"\n",
              "              style=\"display:none;\">\n",
              "        \n",
              "  <svg xmlns=\"http://www.w3.org/2000/svg\" height=\"24px\"viewBox=\"0 0 24 24\"\n",
              "       width=\"24px\">\n",
              "    <path d=\"M0 0h24v24H0V0z\" fill=\"none\"/>\n",
              "    <path d=\"M18.56 5.44l.94 2.06.94-2.06 2.06-.94-2.06-.94-.94-2.06-.94 2.06-2.06.94zm-11 1L8.5 8.5l.94-2.06 2.06-.94-2.06-.94L8.5 2.5l-.94 2.06-2.06.94zm10 10l.94 2.06.94-2.06 2.06-.94-2.06-.94-.94-2.06-.94 2.06-2.06.94z\"/><path d=\"M17.41 7.96l-1.37-1.37c-.4-.4-.92-.59-1.43-.59-.52 0-1.04.2-1.43.59L10.3 9.45l-7.72 7.72c-.78.78-.78 2.05 0 2.83L4 21.41c.39.39.9.59 1.41.59.51 0 1.02-.2 1.41-.59l7.78-7.78 2.81-2.81c.8-.78.8-2.07 0-2.86zM5.41 20L4 18.59l7.72-7.72 1.47 1.35L5.41 20z\"/>\n",
              "  </svg>\n",
              "      </button>\n",
              "      \n",
              "  <style>\n",
              "    .colab-df-container {\n",
              "      display:flex;\n",
              "      flex-wrap:wrap;\n",
              "      gap: 12px;\n",
              "    }\n",
              "\n",
              "    .colab-df-convert {\n",
              "      background-color: #E8F0FE;\n",
              "      border: none;\n",
              "      border-radius: 50%;\n",
              "      cursor: pointer;\n",
              "      display: none;\n",
              "      fill: #1967D2;\n",
              "      height: 32px;\n",
              "      padding: 0 0 0 0;\n",
              "      width: 32px;\n",
              "    }\n",
              "\n",
              "    .colab-df-convert:hover {\n",
              "      background-color: #E2EBFA;\n",
              "      box-shadow: 0px 1px 2px rgba(60, 64, 67, 0.3), 0px 1px 3px 1px rgba(60, 64, 67, 0.15);\n",
              "      fill: #174EA6;\n",
              "    }\n",
              "\n",
              "    [theme=dark] .colab-df-convert {\n",
              "      background-color: #3B4455;\n",
              "      fill: #D2E3FC;\n",
              "    }\n",
              "\n",
              "    [theme=dark] .colab-df-convert:hover {\n",
              "      background-color: #434B5C;\n",
              "      box-shadow: 0px 1px 3px 1px rgba(0, 0, 0, 0.15);\n",
              "      filter: drop-shadow(0px 1px 2px rgba(0, 0, 0, 0.3));\n",
              "      fill: #FFFFFF;\n",
              "    }\n",
              "  </style>\n",
              "\n",
              "      <script>\n",
              "        const buttonEl =\n",
              "          document.querySelector('#df-86fd9949-193e-498e-b768-bf19dbf03dab button.colab-df-convert');\n",
              "        buttonEl.style.display =\n",
              "          google.colab.kernel.accessAllowed ? 'block' : 'none';\n",
              "\n",
              "        async function convertToInteractive(key) {\n",
              "          const element = document.querySelector('#df-86fd9949-193e-498e-b768-bf19dbf03dab');\n",
              "          const dataTable =\n",
              "            await google.colab.kernel.invokeFunction('convertToInteractive',\n",
              "                                                     [key], {});\n",
              "          if (!dataTable) return;\n",
              "\n",
              "          const docLinkHtml = 'Like what you see? Visit the ' +\n",
              "            '<a target=\"_blank\" href=https://colab.research.google.com/notebooks/data_table.ipynb>data table notebook</a>'\n",
              "            + ' to learn more about interactive tables.';\n",
              "          element.innerHTML = '';\n",
              "          dataTable['output_type'] = 'display_data';\n",
              "          await google.colab.output.renderOutput(dataTable, element);\n",
              "          const docLink = document.createElement('div');\n",
              "          docLink.innerHTML = docLinkHtml;\n",
              "          element.appendChild(docLink);\n",
              "        }\n",
              "      </script>\n",
              "    </div>\n",
              "  </div>\n",
              "  "
            ]
          },
          "metadata": {},
          "execution_count": 6
        }
      ]
    },
    {
      "cell_type": "code",
      "source": [
        "df.info()"
      ],
      "metadata": {
        "colab": {
          "base_uri": "https://localhost:8080/"
        },
        "id": "hVS_UlagSde7",
        "outputId": "2f59192a-74da-4ee4-e17f-0b890aa7d7be"
      },
      "execution_count": null,
      "outputs": [
        {
          "output_type": "stream",
          "name": "stdout",
          "text": [
            "<class 'pandas.core.frame.DataFrame'>\n",
            "RangeIndex: 53517960 entries, 0 to 53517959\n",
            "Data columns (total 9 columns):\n",
            " #   Column            Dtype  \n",
            "---  ------            -----  \n",
            " 0   Fecha             object \n",
            " 1   evento_tipo       object \n",
            " 2   id_producto       int32  \n",
            " 3   id_categoria      int64  \n",
            " 4   codigo_categoria  object \n",
            " 5   marca             object \n",
            " 6   precio            float16\n",
            " 7   id_sesion         int32  \n",
            " 8   usuario_sesion    object \n",
            "dtypes: float16(1), int32(2), int64(1), object(5)\n",
            "memory usage: 2.9+ GB\n"
          ]
        }
      ]
    },
    {
      "cell_type": "code",
      "source": [
        "#No de visitantes por dia\n",
        "data = df.loc[:,['Fecha','usuario_sesion']]\n",
        "data['Fecha'] = data['Fecha'].apply(lambda s: str(s)[0:10])\n",
        "visitor_by_date = data.drop_duplicates().groupby(['Fecha'])['usuario_sesion'].agg(['count']).sort_values(by=['Fecha'], ascending=True)\n",
        "x = pd.Series(visitor_by_date.index.values).apply(lambda s: datetime.strptime(s, '%Y-%m-%d').date())\n",
        "y = visitor_by_date['count']\n",
        "plt.rcParams['figure.figsize'] = (20,8)\n",
        "\n",
        "plt.plot(x,y)\n",
        "plt.show()"
      ],
      "metadata": {
        "colab": {
          "base_uri": "https://localhost:8080/",
          "height": 483
        },
        "id": "M9OZ3TgYSfbs",
        "outputId": "02c9bb95-7131-4389-eaa5-956d1a49a2db"
      },
      "execution_count": null,
      "outputs": [
        {
          "output_type": "display_data",
          "data": {
            "text/plain": [
              "<Figure size 1440x576 with 1 Axes>"
            ],
            "image/png": "[encoded data removed]"
          },
          "metadata": {
            "needs_background": "light"
          }
        }
      ]
    },
    {
      "cell_type": "code",
      "source": [
        "#Marca más valorable\n",
        "#Marcas más buscadas\n",
        "df['marca'].value_counts(10)"
      ],
      "metadata": {
        "colab": {
          "base_uri": "https://localhost:8080/"
        },
        "id": "fGmiKxcuS86D",
        "outputId": "4703b888-c2ab-4f73-c2ef-66e47b3c47b6"
      },
      "execution_count": null,
      "outputs": [
        {
          "output_type": "execute_result",
          "data": {
            "text/plain": [
              "samsung       1.588427e-01\n",
              "apple         1.042837e-01\n",
              "xiaomi        9.661261e-02\n",
              "huawei        3.548386e-02\n",
              "lucente       2.294439e-02\n",
              "                  ...     \n",
              "mustang       1.868756e-08\n",
              "homelife      1.868756e-08\n",
              "kaisavilla    1.868756e-08\n",
              "bratz         1.868756e-08\n",
              "aletant       1.868756e-08\n",
              "Name: marca, Length: 4236, dtype: float64"
            ]
          },
          "metadata": {},
          "execution_count": 10
        }
      ]
    },
    {
      "cell_type": "code",
      "source": [
        "#Marcas más vendidas\n",
        "title_type = df[df.evento_tipo =='purchase'].groupby('marca').agg('count')\n",
        "print(title_type)\n",
        "type_labels = title_type.usuario_sesion.sort_values().index\n",
        "type_counts = title_type.usuario_sesion.sort_values()\n",
        "plt.figure(1,figsize =(20,10))\n",
        "the_grid = GridSpec(2,2)\n",
        "cmap = plt.get_cmap('Spectral')\n",
        "colors = [cmap(i) for i in np.linspace(0,1,8)]\n",
        "plt.subplot(the_grid[0,1],aspect=1,title = 'Marcas')\n",
        "type_show_ids = plt.pie(type_counts,labels = type_labels,autopct = '%1.1f%%',shadow = True,colors = colors)\n",
        "plt.show()"
      ],
      "metadata": {
        "colab": {
          "base_uri": "https://localhost:8080/",
          "height": 797
        },
        "id": "da199bF1wjJ4",
        "outputId": "90dcc538-d85b-4b42-e069-1d0c3f98674b"
      },
      "execution_count": null,
      "outputs": [
        {
          "output_type": "stream",
          "name": "stdout",
          "text": [
            "          Fecha  evento_tipo  id_producto  id_categoria  codigo_categoria  \\\n",
            "marca                                                                       \n",
            "a-case      197          197          197           197               197   \n",
            "a-derma       3            3            3             3                 3   \n",
            "a-elita       6            6            6             6                 6   \n",
            "a-mega        2            2            2             2                 2   \n",
            "aardwolf      8            8            8             8                 8   \n",
            "...         ...          ...          ...           ...               ...   \n",
            "zte          63           63           63            63                63   \n",
            "zubr        182          182          182           182               182   \n",
            "zuru          3            3            3             3                 3   \n",
            "zvezda        3            3            3             3                 3   \n",
            "zyxel         1            1            1             1                 1   \n",
            "\n",
            "          precio  id_sesion  usuario_sesion  \n",
            "marca                                        \n",
            "a-case       197        197             197  \n",
            "a-derma        3          3               3  \n",
            "a-elita        6          6               6  \n",
            "a-mega         2          2               2  \n",
            "aardwolf       8          8               8  \n",
            "...          ...        ...             ...  \n",
            "zte           63         63              63  \n",
            "zubr         182        182             182  \n",
            "zuru           3          3               3  \n",
            "zvezda         3          3               3  \n",
            "zyxel          1          1               1  \n",
            "\n",
            "[2643 rows x 8 columns]\n"
          ]
        },
        {
          "output_type": "display_data",
          "data": {
            "text/plain": [
              "<Figure size 1440x720 with 1 Axes>"
            ],
            "image/png": "[encoded data removed]"
          },
          "metadata": {}
        }
      ]
    },
    {
      "cell_type": "code",
      "source": [
        "#Categorias más vistas\n",
        "top_category_n = 10\n",
        "top_category = df.loc[:,'codigo_categoria'].value_counts()[:top_category_n].sort_values(ascending=False)\n",
        "squarify.plot(sizes=top_category, label=top_category.index.array, color=[\"red\",\"cyan\",\"green\",\"orange\",\"blue\",\"grey\"], alpha=.7  )\n",
        "plt.axis('off')\n",
        "plt.show()"
      ],
      "metadata": {
        "colab": {
          "base_uri": "https://localhost:8080/",
          "height": 466
        },
        "id": "Tppk39QHz3Ac",
        "outputId": "6676d8b5-ba65-4bc3-b0d6-fe6190fd425d"
      },
      "execution_count": null,
      "outputs": [
        {
          "output_type": "display_data",
          "data": {
            "text/plain": [
              "<Figure size 576x576 with 1 Axes>"
            ],
            "image/png": "[encoded data removed]"
          },
          "metadata": {
            "needs_background": "light"
          }
        }
      ]
    },
    {
      "cell_type": "code",
      "source": [
        "top_category_n = 10\n",
        "top_category = df[df.evento_tipo =='purchase'].loc[:,'codigo_categoria'].value_counts()[:top_category_n].sort_values(ascending=False)\n",
        "squarify.plot(sizes=top_category, label=top_category.index.array, color=[\"red\",\"cyan\",\"green\",\"orange\",\"blue\",\"grey\"], alpha=.7  )\n",
        "plt.axis('off')\n",
        "plt.show()"
      ],
      "metadata": {
        "colab": {
          "base_uri": "https://localhost:8080/",
          "height": 466
        },
        "id": "rYZojRv90Zn9",
        "outputId": "6f0396bf-4784-44e7-edbc-53ecaf55d6d2"
      },
      "execution_count": null,
      "outputs": [
        {
          "output_type": "display_data",
          "data": {
            "text/plain": [
              "<Figure size 576x576 with 1 Axes>"
            ],
            "image/png": "[encoded data removed]"
          },
          "metadata": {
            "needs_background": "light"
          }
        }
      ]
    },
    {
      "cell_type": "code",
      "source": [
        "labels = ['view', 'cart','purchase']\n",
        "size = df['evento_tipo'].value_counts()\n",
        "colors = ['yellowgreen', 'lightskyblue','lightcoral']\n",
        "explode = [0, 0.1,0.1]\n",
        "\n",
        "plt.rcParams['figure.figsize'] = (8, 8)\n",
        "plt.pie(size, colors = colors, explode = explode, labels = labels, shadow = True, autopct = '%.2f%%')\n",
        "plt.title('evento_tipo', fontsize = 20)\n",
        "plt.axis('off')\n",
        "plt.legend()\n",
        "plt.show()"
      ],
      "metadata": {
        "colab": {
          "base_uri": "https://localhost:8080/",
          "height": 487
        },
        "id": "AkQYrAnY1Mt5",
        "outputId": "c58ae917-9c49-4aa0-d717-96f116dcaf85"
      },
      "execution_count": null,
      "outputs": [
        {
          "output_type": "display_data",
          "data": {
            "text/plain": [
              "<Figure size 576x576 with 1 Axes>"
            ],
            "image/png": "[encoded data removed]"
          },
          "metadata": {}
        }
      ]
    },
    {
      "cell_type": "code",
      "source": [
        "#Indice de conversión\n",
        "view_count = df['evento_tipo'].value_counts()[0]\n",
        "cart_count = df['evento_tipo'].value_counts()[1]\n",
        "purchase_count = df['evento_tipo'].value_counts()[2]\n",
        "print(\"Ratio de conversión entre visto y comprado\" +str((purchase_count/view_count)*100) +'%')\n",
        "print(\"Ratio de conversión entre visto y añadido al carro\" +str((cart_count/view_count)*100) +'%')\n",
        "print(\"Ratio de conversión entre añadido al carro y comprado\" +str((purchase_count/cart_count)*100) +'%')"
      ],
      "metadata": {
        "colab": {
          "base_uri": "https://localhost:8080/"
        },
        "id": "dTQMVcad2Y_x",
        "outputId": "97f9a37c-6f64-4e19-af4f-b5b194ce4fae"
      },
      "execution_count": null,
      "outputs": [
        {
          "output_type": "stream",
          "name": "stdout",
          "text": [
            "Ratio de conversión entre visto y comprado2.025196612716369%\n",
            "Ratio de conversión entre visto y añadido al carro5.556100317191985%\n",
            "Ratio de conversión entre añadido al carro y comprado36.4499648512446%\n"
          ]
        }
      ]
    },
    {
      "cell_type": "code",
      "source": [
        "#Ventas por marca\n",
        "d = df.loc[df['evento_tipo'].isin(['purchase'])].drop_duplicates()\n",
        "print(d['marca'].value_counts())\n",
        "d['marca'].value_counts().head(70).plot.bar(figsize =(18,7))\n",
        "plt.xlabel('Nombre marca')\n",
        "plt.ylabel('Cuenta')\n",
        "plt.show()"
      ],
      "metadata": {
        "colab": {
          "base_uri": "https://localhost:8080/",
          "height": 692
        },
        "id": "ErToCPOS3g9s",
        "outputId": "15a2bfb9-a316-4a67-87f4-065398a6a0f3"
      },
      "execution_count": null,
      "outputs": [
        {
          "output_type": "stream",
          "name": "stdout",
          "text": [
            "samsung     265767\n",
            "apple       209510\n",
            "xiaomi      101498\n",
            "huawei       45116\n",
            "lucente      21009\n",
            "             ...  \n",
            "muravej          1\n",
            "mojmalys         1\n",
            "rode             1\n",
            "chenri           1\n",
            "colab            1\n",
            "Name: marca, Length: 2643, dtype: int64\n"
          ]
        },
        {
          "output_type": "display_data",
          "data": {
            "text/plain": [
              "<Figure size 1296x504 with 1 Axes>"
            ],
            "image/png": "[encoded data removed]"
          },
          "metadata": {
            "needs_background": "light"
          }
        }
      ]
    },
    {
      "cell_type": "markdown",
      "source": [
        "# Análisis compra Smartphone"
      ],
      "metadata": {
        "id": "x8tr33jXwsZG"
      }
    },
    {
      "cell_type": "code",
      "source": [
        "#Día de la semana que más se compra smartphone"
      ],
      "metadata": {
        "id": "UDRAAAYu6EXy"
      },
      "execution_count": null,
      "outputs": []
    },
    {
      "cell_type": "code",
      "source": [
        "df_p = pd.read_csv('/content/drive/MyDrive/saleforcasting/datos/datos.csv')"
      ],
      "metadata": {
        "id": "SNB_SWZLNsdf"
      },
      "execution_count": null,
      "outputs": []
    },
    {
      "cell_type": "code",
      "source": [
        "df_p.info()"
      ],
      "metadata": {
        "colab": {
          "base_uri": "https://localhost:8080/"
        },
        "id": "azn1_B2BO618",
        "outputId": "4a6d7b35-ae9e-41c7-c294-d0f98995b2b0"
      },
      "execution_count": null,
      "outputs": [
        {
          "output_type": "stream",
          "name": "stdout",
          "text": [
            "<class 'pandas.core.frame.DataFrame'>\n",
            "RangeIndex: 734123 entries, 0 to 734122\n",
            "Data columns (total 11 columns):\n",
            " #   Column         Non-Null Count   Dtype  \n",
            "---  ------         --------------   -----  \n",
            " 0   Unnamed: 0     734123 non-null  int64  \n",
            " 1   Unnamed: 0.1   734123 non-null  int64  \n",
            " 2   event_time     734123 non-null  object \n",
            " 3   event_type     734123 non-null  object \n",
            " 4   product_id     734123 non-null  int64  \n",
            " 5   category_id    734123 non-null  int64  \n",
            " 6   category_code  734123 non-null  object \n",
            " 7   brand          733300 non-null  object \n",
            " 8   price          734123 non-null  float64\n",
            " 9   user_id        734123 non-null  int64  \n",
            " 10  user_session   734123 non-null  object \n",
            "dtypes: float64(1), int64(5), object(5)\n",
            "memory usage: 61.6+ MB\n"
          ]
        }
      ]
    },
    {
      "cell_type": "code",
      "source": [
        "df_p.dtypes"
      ],
      "metadata": {
        "colab": {
          "base_uri": "https://localhost:8080/"
        },
        "id": "2pt9olHXTY_h",
        "outputId": "7f08671b-37af-426a-84f7-c684559392cd"
      },
      "execution_count": null,
      "outputs": [
        {
          "output_type": "execute_result",
          "data": {
            "text/plain": [
              "Unnamed: 0                int64\n",
              "Unnamed: 0.1              int64\n",
              "event_time       datetime64[ns]\n",
              "event_type               object\n",
              "product_id                int64\n",
              "category_id               int64\n",
              "category_code            object\n",
              "brand                    object\n",
              "price                   float64\n",
              "user_id                   int64\n",
              "user_session             object\n",
              "dtype: object"
            ]
          },
          "metadata": {},
          "execution_count": 40
        }
      ]
    },
    {
      "cell_type": "code",
      "source": [
        "df_p.head(10)"
      ],
      "metadata": {
        "colab": {
          "base_uri": "https://localhost:8080/",
          "height": 363
        },
        "id": "wWxJ2Y-dPbVh",
        "outputId": "8ca62b34-3d89-4728-9a90-5424aa139f45"
      },
      "execution_count": null,
      "outputs": [
        {
          "output_type": "execute_result",
          "data": {
            "text/plain": [
              "   Unnamed: 0  Unnamed: 0.1               event_time event_type  product_id  \\\n",
              "0           0           162  2019-10-01 00:02:14 UTC   purchase     1004856   \n",
              "1           1           308  2019-10-01 00:04:37 UTC   purchase     1002532   \n",
              "2           2           618  2019-10-01 00:10:08 UTC   purchase     1002524   \n",
              "3           3           860  2019-10-01 00:14:14 UTC   purchase     1004932   \n",
              "4           4          1558  2019-10-01 02:19:10 UTC   purchase     1004246   \n",
              "5           5          1649  2019-10-01 02:19:34 UTC   purchase     1005104   \n",
              "6           6          1905  2019-10-01 02:20:33 UTC   purchase     1003316   \n",
              "7           7          2073  2019-10-01 02:21:02 UTC   purchase     1004659   \n",
              "8           8          2478  2019-10-01 02:22:11 UTC   purchase     1004750   \n",
              "9           9          2795  2019-10-01 02:23:05 UTC   purchase     1004903   \n",
              "\n",
              "           category_id           category_code    brand   price    user_id  \\\n",
              "0  2053013555631882655  electronics.smartphone  samsung  130.76  543272936   \n",
              "1  2053013555631882655  electronics.smartphone    apple  642.69  551377651   \n",
              "2  2053013555631882655  electronics.smartphone    apple  515.67  524325294   \n",
              "3  2053013555631882655  electronics.smartphone     vivo  463.31  555083442   \n",
              "4  2053013555631882655  electronics.smartphone    apple  736.18  515246296   \n",
              "5  2053013555631882655  electronics.smartphone    apple  975.57  555160488   \n",
              "6  2053013555631882655  electronics.smartphone    apple  946.97  516198933   \n",
              "7  2053013555631882655  electronics.smartphone  samsung  787.18  555168263   \n",
              "8  2053013555631882655  electronics.smartphone  samsung  197.43  555110488   \n",
              "9  2053013555631882655  electronics.smartphone   huawei  111.82  512812487   \n",
              "\n",
              "                           user_session  \n",
              "0  8187d148-3c41-46d4-b0c0-9c08cd9dc564  \n",
              "1  3c80f0d6-e9ec-4181-8c5c-837a30be2d68  \n",
              "2  0b74a829-f9d7-4654-b5b0-35bc9822c238  \n",
              "3  83d12d1a-5452-4fa0-abbb-d9f492f8b562  \n",
              "4  b7dbae4f-cad3-463e-89ce-41990cf48dea  \n",
              "5  a1395546-c124-456c-9752-0f5cf883c63d  \n",
              "6  e1050ba4-5425-4b8e-9cc8-194878031718  \n",
              "7  d068d08f-aaf3-4949-b031-cdaf49a5c7cf  \n",
              "8  ce885079-4d92-4fe6-92a3-377c5a2d8291  \n",
              "9  d3ef047f-9476-4b8d-a126-b483c55de653  "
            ],
            "text/html": [
              "\n",
              "  <div id=\"df-cdb99135-72f3-4112-b74f-6c0ffbedab75\">\n",
              "    <div class=\"colab-df-container\">\n",
              "      <div>\n",
              "<style scoped>\n",
              "    .dataframe tbody tr th:only-of-type {\n",
              "        vertical-align: middle;\n",
              "    }\n",
              "\n",
              "    .dataframe tbody tr th {\n",
              "        vertical-align: top;\n",
              "    }\n",
              "\n",
              "    .dataframe thead th {\n",
              "        text-align: right;\n",
              "    }\n",
              "</style>\n",
              "<table border=\"1\" class=\"dataframe\">\n",
              "  <thead>\n",
              "    <tr style=\"text-align: right;\">\n",
              "      <th></th>\n",
              "      <th>Unnamed: 0</th>\n",
              "      <th>Unnamed: 0.1</th>\n",
              "      <th>event_time</th>\n",
              "      <th>event_type</th>\n",
              "      <th>product_id</th>\n",
              "      <th>category_id</th>\n",
              "      <th>category_code</th>\n",
              "      <th>brand</th>\n",
              "      <th>price</th>\n",
              "      <th>user_id</th>\n",
              "      <th>user_session</th>\n",
              "    </tr>\n",
              "  </thead>\n",
              "  <tbody>\n",
              "    <tr>\n",
              "      <th>0</th>\n",
              "      <td>0</td>\n",
              "      <td>162</td>\n",
              "      <td>2019-10-01 00:02:14 UTC</td>\n",
              "      <td>purchase</td>\n",
              "      <td>1004856</td>\n",
              "      <td>2053013555631882655</td>\n",
              "      <td>electronics.smartphone</td>\n",
              "      <td>samsung</td>\n",
              "      <td>130.76</td>\n",
              "      <td>543272936</td>\n",
              "      <td>8187d148-3c41-46d4-b0c0-9c08cd9dc564</td>\n",
              "    </tr>\n",
              "    <tr>\n",
              "      <th>1</th>\n",
              "      <td>1</td>\n",
              "      <td>308</td>\n",
              "      <td>2019-10-01 00:04:37 UTC</td>\n",
              "      <td>purchase</td>\n",
              "      <td>1002532</td>\n",
              "      <td>2053013555631882655</td>\n",
              "      <td>electronics.smartphone</td>\n",
              "      <td>apple</td>\n",
              "      <td>642.69</td>\n",
              "      <td>551377651</td>\n",
              "      <td>3c80f0d6-e9ec-4181-8c5c-837a30be2d68</td>\n",
              "    </tr>\n",
              "    <tr>\n",
              "      <th>2</th>\n",
              "      <td>2</td>\n",
              "      <td>618</td>\n",
              "      <td>2019-10-01 00:10:08 UTC</td>\n",
              "      <td>purchase</td>\n",
              "      <td>1002524</td>\n",
              "      <td>2053013555631882655</td>\n",
              "      <td>electronics.smartphone</td>\n",
              "      <td>apple</td>\n",
              "      <td>515.67</td>\n",
              "      <td>524325294</td>\n",
              "      <td>0b74a829-f9d7-4654-b5b0-35bc9822c238</td>\n",
              "    </tr>\n",
              "    <tr>\n",
              "      <th>3</th>\n",
              "      <td>3</td>\n",
              "      <td>860</td>\n",
              "      <td>2019-10-01 00:14:14 UTC</td>\n",
              "      <td>purchase</td>\n",
              "      <td>1004932</td>\n",
              "      <td>2053013555631882655</td>\n",
              "      <td>electronics.smartphone</td>\n",
              "      <td>vivo</td>\n",
              "      <td>463.31</td>\n",
              "      <td>555083442</td>\n",
              "      <td>83d12d1a-5452-4fa0-abbb-d9f492f8b562</td>\n",
              "    </tr>\n",
              "    <tr>\n",
              "      <th>4</th>\n",
              "      <td>4</td>\n",
              "      <td>1558</td>\n",
              "      <td>2019-10-01 02:19:10 UTC</td>\n",
              "      <td>purchase</td>\n",
              "      <td>1004246</td>\n",
              "      <td>2053013555631882655</td>\n",
              "      <td>electronics.smartphone</td>\n",
              "      <td>apple</td>\n",
              "      <td>736.18</td>\n",
              "      <td>515246296</td>\n",
              "      <td>b7dbae4f-cad3-463e-89ce-41990cf48dea</td>\n",
              "    </tr>\n",
              "    <tr>\n",
              "      <th>5</th>\n",
              "      <td>5</td>\n",
              "      <td>1649</td>\n",
              "      <td>2019-10-01 02:19:34 UTC</td>\n",
              "      <td>purchase</td>\n",
              "      <td>1005104</td>\n",
              "      <td>2053013555631882655</td>\n",
              "      <td>electronics.smartphone</td>\n",
              "      <td>apple</td>\n",
              "      <td>975.57</td>\n",
              "      <td>555160488</td>\n",
              "      <td>a1395546-c124-456c-9752-0f5cf883c63d</td>\n",
              "    </tr>\n",
              "    <tr>\n",
              "      <th>6</th>\n",
              "      <td>6</td>\n",
              "      <td>1905</td>\n",
              "      <td>2019-10-01 02:20:33 UTC</td>\n",
              "      <td>purchase</td>\n",
              "      <td>1003316</td>\n",
              "      <td>2053013555631882655</td>\n",
              "      <td>electronics.smartphone</td>\n",
              "      <td>apple</td>\n",
              "      <td>946.97</td>\n",
              "      <td>516198933</td>\n",
              "      <td>e1050ba4-5425-4b8e-9cc8-194878031718</td>\n",
              "    </tr>\n",
              "    <tr>\n",
              "      <th>7</th>\n",
              "      <td>7</td>\n",
              "      <td>2073</td>\n",
              "      <td>2019-10-01 02:21:02 UTC</td>\n",
              "      <td>purchase</td>\n",
              "      <td>1004659</td>\n",
              "      <td>2053013555631882655</td>\n",
              "      <td>electronics.smartphone</td>\n",
              "      <td>samsung</td>\n",
              "      <td>787.18</td>\n",
              "      <td>555168263</td>\n",
              "      <td>d068d08f-aaf3-4949-b031-cdaf49a5c7cf</td>\n",
              "    </tr>\n",
              "    <tr>\n",
              "      <th>8</th>\n",
              "      <td>8</td>\n",
              "      <td>2478</td>\n",
              "      <td>2019-10-01 02:22:11 UTC</td>\n",
              "      <td>purchase</td>\n",
              "      <td>1004750</td>\n",
              "      <td>2053013555631882655</td>\n",
              "      <td>electronics.smartphone</td>\n",
              "      <td>samsung</td>\n",
              "      <td>197.43</td>\n",
              "      <td>555110488</td>\n",
              "      <td>ce885079-4d92-4fe6-92a3-377c5a2d8291</td>\n",
              "    </tr>\n",
              "    <tr>\n",
              "      <th>9</th>\n",
              "      <td>9</td>\n",
              "      <td>2795</td>\n",
              "      <td>2019-10-01 02:23:05 UTC</td>\n",
              "      <td>purchase</td>\n",
              "      <td>1004903</td>\n",
              "      <td>2053013555631882655</td>\n",
              "      <td>electronics.smartphone</td>\n",
              "      <td>huawei</td>\n",
              "      <td>111.82</td>\n",
              "      <td>512812487</td>\n",
              "      <td>d3ef047f-9476-4b8d-a126-b483c55de653</td>\n",
              "    </tr>\n",
              "  </tbody>\n",
              "</table>\n",
              "</div>\n",
              "      <button class=\"colab-df-convert\" onclick=\"convertToInteractive('df-cdb99135-72f3-4112-b74f-6c0ffbedab75')\"\n",
              "              title=\"Convert this dataframe to an interactive table.\"\n",
              "              style=\"display:none;\">\n",
              "        \n",
              "  <svg xmlns=\"http://www.w3.org/2000/svg\" height=\"24px\"viewBox=\"0 0 24 24\"\n",
              "       width=\"24px\">\n",
              "    <path d=\"M0 0h24v24H0V0z\" fill=\"none\"/>\n",
              "    <path d=\"M18.56 5.44l.94 2.06.94-2.06 2.06-.94-2.06-.94-.94-2.06-.94 2.06-2.06.94zm-11 1L8.5 8.5l.94-2.06 2.06-.94-2.06-.94L8.5 2.5l-.94 2.06-2.06.94zm10 10l.94 2.06.94-2.06 2.06-.94-2.06-.94-.94-2.06-.94 2.06-2.06.94z\"/><path d=\"M17.41 7.96l-1.37-1.37c-.4-.4-.92-.59-1.43-.59-.52 0-1.04.2-1.43.59L10.3 9.45l-7.72 7.72c-.78.78-.78 2.05 0 2.83L4 21.41c.39.39.9.59 1.41.59.51 0 1.02-.2 1.41-.59l7.78-7.78 2.81-2.81c.8-.78.8-2.07 0-2.86zM5.41 20L4 18.59l7.72-7.72 1.47 1.35L5.41 20z\"/>\n",
              "  </svg>\n",
              "      </button>\n",
              "      \n",
              "  <style>\n",
              "    .colab-df-container {\n",
              "      display:flex;\n",
              "      flex-wrap:wrap;\n",
              "      gap: 12px;\n",
              "    }\n",
              "\n",
              "    .colab-df-convert {\n",
              "      background-color: #E8F0FE;\n",
              "      border: none;\n",
              "      border-radius: 50%;\n",
              "      cursor: pointer;\n",
              "      display: none;\n",
              "      fill: #1967D2;\n",
              "      height: 32px;\n",
              "      padding: 0 0 0 0;\n",
              "      width: 32px;\n",
              "    }\n",
              "\n",
              "    .colab-df-convert:hover {\n",
              "      background-color: #E2EBFA;\n",
              "      box-shadow: 0px 1px 2px rgba(60, 64, 67, 0.3), 0px 1px 3px 1px rgba(60, 64, 67, 0.15);\n",
              "      fill: #174EA6;\n",
              "    }\n",
              "\n",
              "    [theme=dark] .colab-df-convert {\n",
              "      background-color: #3B4455;\n",
              "      fill: #D2E3FC;\n",
              "    }\n",
              "\n",
              "    [theme=dark] .colab-df-convert:hover {\n",
              "      background-color: #434B5C;\n",
              "      box-shadow: 0px 1px 3px 1px rgba(0, 0, 0, 0.15);\n",
              "      filter: drop-shadow(0px 1px 2px rgba(0, 0, 0, 0.3));\n",
              "      fill: #FFFFFF;\n",
              "    }\n",
              "  </style>\n",
              "\n",
              "      <script>\n",
              "        const buttonEl =\n",
              "          document.querySelector('#df-cdb99135-72f3-4112-b74f-6c0ffbedab75 button.colab-df-convert');\n",
              "        buttonEl.style.display =\n",
              "          google.colab.kernel.accessAllowed ? 'block' : 'none';\n",
              "\n",
              "        async function convertToInteractive(key) {\n",
              "          const element = document.querySelector('#df-cdb99135-72f3-4112-b74f-6c0ffbedab75');\n",
              "          const dataTable =\n",
              "            await google.colab.kernel.invokeFunction('convertToInteractive',\n",
              "                                                     [key], {});\n",
              "          if (!dataTable) return;\n",
              "\n",
              "          const docLinkHtml = 'Like what you see? Visit the ' +\n",
              "            '<a target=\"_blank\" href=https://colab.research.google.com/notebooks/data_table.ipynb>data table notebook</a>'\n",
              "            + ' to learn more about interactive tables.';\n",
              "          element.innerHTML = '';\n",
              "          dataTable['output_type'] = 'display_data';\n",
              "          await google.colab.output.renderOutput(dataTable, element);\n",
              "          const docLink = document.createElement('div');\n",
              "          docLink.innerHTML = docLinkHtml;\n",
              "          element.appendChild(docLink);\n",
              "        }\n",
              "      </script>\n",
              "    </div>\n",
              "  </div>\n",
              "  "
            ]
          },
          "metadata": {},
          "execution_count": 33
        }
      ]
    },
    {
      "cell_type": "code",
      "source": [
        "data2 = df_p.loc[:,['event_time','user_session','user_id','event_type','price']]\n",
        "data2['event_time'] = data2['event_time'].apply(lambda s: str(s)[0:10])"
      ],
      "metadata": {
        "id": "LzDKAuj8jdLP"
      },
      "execution_count": null,
      "outputs": []
    },
    {
      "cell_type": "code",
      "source": [
        "data2.info()"
      ],
      "metadata": {
        "colab": {
          "base_uri": "https://localhost:8080/"
        },
        "id": "EFE6hVVzjfYs",
        "outputId": "f1afb2ca-ec37-4ef6-e161-ce6fd7547fe5"
      },
      "execution_count": null,
      "outputs": [
        {
          "output_type": "stream",
          "name": "stdout",
          "text": [
            "<class 'pandas.core.frame.DataFrame'>\n",
            "RangeIndex: 734123 entries, 0 to 734122\n",
            "Data columns (total 5 columns):\n",
            " #   Column        Non-Null Count   Dtype  \n",
            "---  ------        --------------   -----  \n",
            " 0   event_time    734123 non-null  object \n",
            " 1   user_session  734123 non-null  object \n",
            " 2   user_id       734123 non-null  int64  \n",
            " 3   event_type    734123 non-null  object \n",
            " 4   price         734123 non-null  float64\n",
            "dtypes: float64(1), int64(1), object(3)\n",
            "memory usage: 28.0+ MB\n"
          ]
        }
      ]
    },
    {
      "cell_type": "code",
      "source": [
        "daily_summary_table = data2.groupby(by=[data2['c']]).agg(Number_of_daily_visits=('user_session',lambda x: x.nunique()),\n",
        "                                                                                  Number_of_daily_visitors=('user_id',lambda x: x.nunique())\n",
        "                                                                                  )\n",
        "sales_filter = data2['event_type']=='purchase'\n",
        "sales = data2.loc[sales_filter].groupby(by=[data2['event_time']]).agg(number_of_daily_sales=('event_type','count'),\n",
        "                                                                                      Total_daily_sales=('price','sum')\n",
        "                                                                                      ).reset_index()\n",
        "daily_summary_table = pd.merge(left=daily_summary_table,\n",
        "                               right=sales,\n",
        "                               left_on=['event_time'],\n",
        "                               right_on=['event_time'],\n",
        "                               how='left')\n",
        "daily_summary_table['conversion_rate']=daily_summary_table['number_of_daily_sales']/daily_summary_table['Number_of_daily_visits']"
      ],
      "metadata": {
        "id": "ElEuW23e6Odn"
      },
      "execution_count": null,
      "outputs": []
    },
    {
      "cell_type": "code",
      "source": [
        "daily_summary_table['event_time']=pd.to_datetime(daily_summary_table['event_time'])"
      ],
      "metadata": {
        "id": "oK9CP6pgm-3L"
      },
      "execution_count": null,
      "outputs": []
    },
    {
      "cell_type": "code",
      "source": [
        "print('Estadísticas de visitas diarias')\n",
        "print('-'*50)\n",
        "print(daily_summary_table['Number_of_daily_visits'].describe())\n",
        "print('-'*50)\n",
        "print('Estadísticas de visitas por fecha')\n",
        "print('-'*50)\n",
        "print(daily_summary_table.groupby(by=daily_summary_table['event_time'].dt.day_name())['Number_of_daily_visits'].describe())\n"
      ],
      "metadata": {
        "colab": {
          "base_uri": "https://localhost:8080/"
        },
        "id": "P0tWYnMB9_qP",
        "outputId": "a4629346-4bab-4d4b-9ec8-f4a120153db4"
      },
      "execution_count": null,
      "outputs": [
        {
          "output_type": "stream",
          "name": "stdout",
          "text": [
            "Estadísticas de visitas diarias\n",
            "--------------------------------------------------\n",
            "count      209.000000\n",
            "mean      2973.765550\n",
            "std       5561.195277\n",
            "min          2.000000\n",
            "25%         10.000000\n",
            "50%         96.000000\n",
            "75%       8221.000000\n",
            "max      52909.000000\n",
            "Name: Number_of_daily_visits, dtype: float64\n",
            "--------------------------------------------------\n",
            "Estadísticas de visitas por fecha\n",
            "--------------------------------------------------\n",
            "            count         mean           std  min    25%    50%      75%  \\\n",
            "event_time                                                                 \n",
            "Friday       29.0  2782.827586   4480.686778  3.0  10.00  116.0  8819.00   \n",
            "Monday       29.0  2691.482759   4329.343720  5.0   9.00   95.0  8037.00   \n",
            "Saturday     30.0  3211.933333   5409.638199  2.0  13.00  104.0  8505.50   \n",
            "Sunday       30.0  3929.733333  10010.931649  2.0   8.25  107.0  6467.50   \n",
            "Thursday     30.0  2742.466667   4172.139770  6.0  13.25  110.0  7953.75   \n",
            "Tuesday      30.0  2732.266667   4153.236585  6.0  11.00   84.5  7963.00   \n",
            "Wednesday    31.0  2718.387097   4273.737261  3.0   9.50   79.0  7988.00   \n",
            "\n",
            "                max  \n",
            "event_time           \n",
            "Friday      12431.0  \n",
            "Monday      11635.0  \n",
            "Saturday    22371.0  \n",
            "Sunday      52909.0  \n",
            "Thursday    11371.0  \n",
            "Tuesday     10674.0  \n",
            "Wednesday   12564.0  \n"
          ]
        }
      ]
    },
    {
      "cell_type": "code",
      "source": [
        "fig=plt.figure(figsize=(18,9))\n",
        "sns.boxplot(x=daily_summary_table['event_time'].dt.dayofweek,\n",
        "            y='Number_of_daily_visits',\n",
        "            data=daily_summary_table,\n",
        "            )\n",
        "plt.ylim(0, 15000)\n",
        "plt.title('Número de visitas por dia de la semana')\n",
        "plt.ylabel('Número de visitas')\n",
        "plt.xlabel('Dias')\n",
        "plt.xticks([0, 1, 2,3,4,5,6], ['Lunes','Martes','Miércoles','Jueves','Viernes','Sábado','Domingo'])\n",
        "fig.tight_layout(pad=3.0);"
      ],
      "metadata": {
        "colab": {
          "base_uri": "https://localhost:8080/",
          "height": 619
        },
        "id": "HgQmGWff-smp",
        "outputId": "35d43860-b220-4e2b-cadb-a42d560bab04"
      },
      "execution_count": null,
      "outputs": [
        {
          "output_type": "display_data",
          "data": {
            "text/plain": [
              "<Figure size 1296x648 with 1 Axes>"
            ],
            "image/png": "[encoded data removed]"
          },
          "metadata": {
            "needs_background": "light"
          }
        }
      ]
    },
    {
      "cell_type": "markdown",
      "source": [
        "# RFM Análisis"
      ],
      "metadata": {
        "id": "vVfn7u1kwYux"
      }
    },
    {
      "cell_type": "code",
      "source": [
        "data3=data2.groupby(by='user_session').agg(Date_order=('event_time',lambda x: x.max()),\n",
        "                                                  user_id=('user_id',lambda x: x.unique()),\n",
        "                                          Quantity=('user_session','count'),\n",
        "                                         money_spent=('price','sum')).reset_index(drop=True)"
      ],
      "metadata": {
        "id": "71ZMW2EjtZS1"
      },
      "execution_count": null,
      "outputs": []
    },
    {
      "cell_type": "code",
      "source": [
        "data3['Date_order'].max()"
      ],
      "metadata": {
        "colab": {
          "base_uri": "https://localhost:8080/",
          "height": 35
        },
        "id": "yC5GzbL7sKHr",
        "outputId": "27fecd97-b1fd-4a4c-8629-8c9ff47f9430"
      },
      "execution_count": null,
      "outputs": [
        {
          "output_type": "execute_result",
          "data": {
            "text/plain": [
              "'2020-04-30'"
            ],
            "application/vnd.google.colaboratory.intrinsic+json": {
              "type": "string"
            }
          },
          "metadata": {},
          "execution_count": 110
        }
      ]
    },
    {
      "cell_type": "code",
      "source": [
        "data3['Date_order']=pd.to_datetime(data3['Date_order'])"
      ],
      "metadata": {
        "id": "rTtr67c4uhUg"
      },
      "execution_count": null,
      "outputs": []
    },
    {
      "cell_type": "code",
      "source": [
        "import datetime as dt\n",
        "study_date = dt.datetime(2020,5,1)\n",
        "data3=pd.DataFrame(data3)\n",
        "data3['last_purchase']=study_date - data3['Date_order']\n",
        "data3['last_purchase'].astype('timedelta64[D]')\n",
        "data3['last_purchase']=data3['last_purchase'] / np.timedelta64(1, 'D')\n",
        "data3.head()"
      ],
      "metadata": {
        "colab": {
          "base_uri": "https://localhost:8080/",
          "height": 206
        },
        "id": "2oU_HD7dt5wi",
        "outputId": "5d445d45-6aaa-426f-a1ee-57a6eb9173b8"
      },
      "execution_count": null,
      "outputs": [
        {
          "output_type": "execute_result",
          "data": {
            "text/plain": [
              "  Date_order    user_id  Quantity  money_spent  last_purchase\n",
              "0 2019-10-06  546521725         1       289.52          208.0\n",
              "1 2019-10-25  560486342         1       171.90          189.0\n",
              "2 2019-12-04  574378477         1       360.11          149.0\n",
              "3 2019-10-17  560744406         2       379.78          197.0\n",
              "4 2019-10-23  534210306         2       571.92          191.0"
            ],
            "text/html": [
              "\n",
              "  <div id=\"df-7e5f0d52-e3d4-49b0-b7de-1104313e40a4\">\n",
              "    <div class=\"colab-df-container\">\n",
              "      <div>\n",
              "<style scoped>\n",
              "    .dataframe tbody tr th:only-of-type {\n",
              "        vertical-align: middle;\n",
              "    }\n",
              "\n",
              "    .dataframe tbody tr th {\n",
              "        vertical-align: top;\n",
              "    }\n",
              "\n",
              "    .dataframe thead th {\n",
              "        text-align: right;\n",
              "    }\n",
              "</style>\n",
              "<table border=\"1\" class=\"dataframe\">\n",
              "  <thead>\n",
              "    <tr style=\"text-align: right;\">\n",
              "      <th></th>\n",
              "      <th>Date_order</th>\n",
              "      <th>user_id</th>\n",
              "      <th>Quantity</th>\n",
              "      <th>money_spent</th>\n",
              "      <th>last_purchase</th>\n",
              "    </tr>\n",
              "  </thead>\n",
              "  <tbody>\n",
              "    <tr>\n",
              "      <th>0</th>\n",
              "      <td>2019-10-06</td>\n",
              "      <td>546521725</td>\n",
              "      <td>1</td>\n",
              "      <td>289.52</td>\n",
              "      <td>208.0</td>\n",
              "    </tr>\n",
              "    <tr>\n",
              "      <th>1</th>\n",
              "      <td>2019-10-25</td>\n",
              "      <td>560486342</td>\n",
              "      <td>1</td>\n",
              "      <td>171.90</td>\n",
              "      <td>189.0</td>\n",
              "    </tr>\n",
              "    <tr>\n",
              "      <th>2</th>\n",
              "      <td>2019-12-04</td>\n",
              "      <td>574378477</td>\n",
              "      <td>1</td>\n",
              "      <td>360.11</td>\n",
              "      <td>149.0</td>\n",
              "    </tr>\n",
              "    <tr>\n",
              "      <th>3</th>\n",
              "      <td>2019-10-17</td>\n",
              "      <td>560744406</td>\n",
              "      <td>2</td>\n",
              "      <td>379.78</td>\n",
              "      <td>197.0</td>\n",
              "    </tr>\n",
              "    <tr>\n",
              "      <th>4</th>\n",
              "      <td>2019-10-23</td>\n",
              "      <td>534210306</td>\n",
              "      <td>2</td>\n",
              "      <td>571.92</td>\n",
              "      <td>191.0</td>\n",
              "    </tr>\n",
              "  </tbody>\n",
              "</table>\n",
              "</div>\n",
              "      <button class=\"colab-df-convert\" onclick=\"convertToInteractive('df-7e5f0d52-e3d4-49b0-b7de-1104313e40a4')\"\n",
              "              title=\"Convert this dataframe to an interactive table.\"\n",
              "              style=\"display:none;\">\n",
              "        \n",
              "  <svg xmlns=\"http://www.w3.org/2000/svg\" height=\"24px\"viewBox=\"0 0 24 24\"\n",
              "       width=\"24px\">\n",
              "    <path d=\"M0 0h24v24H0V0z\" fill=\"none\"/>\n",
              "    <path d=\"M18.56 5.44l.94 2.06.94-2.06 2.06-.94-2.06-.94-.94-2.06-.94 2.06-2.06.94zm-11 1L8.5 8.5l.94-2.06 2.06-.94-2.06-.94L8.5 2.5l-.94 2.06-2.06.94zm10 10l.94 2.06.94-2.06 2.06-.94-2.06-.94-.94-2.06-.94 2.06-2.06.94z\"/><path d=\"M17.41 7.96l-1.37-1.37c-.4-.4-.92-.59-1.43-.59-.52 0-1.04.2-1.43.59L10.3 9.45l-7.72 7.72c-.78.78-.78 2.05 0 2.83L4 21.41c.39.39.9.59 1.41.59.51 0 1.02-.2 1.41-.59l7.78-7.78 2.81-2.81c.8-.78.8-2.07 0-2.86zM5.41 20L4 18.59l7.72-7.72 1.47 1.35L5.41 20z\"/>\n",
              "  </svg>\n",
              "      </button>\n",
              "      \n",
              "  <style>\n",
              "    .colab-df-container {\n",
              "      display:flex;\n",
              "      flex-wrap:wrap;\n",
              "      gap: 12px;\n",
              "    }\n",
              "\n",
              "    .colab-df-convert {\n",
              "      background-color: #E8F0FE;\n",
              "      border: none;\n",
              "      border-radius: 50%;\n",
              "      cursor: pointer;\n",
              "      display: none;\n",
              "      fill: #1967D2;\n",
              "      height: 32px;\n",
              "      padding: 0 0 0 0;\n",
              "      width: 32px;\n",
              "    }\n",
              "\n",
              "    .colab-df-convert:hover {\n",
              "      background-color: #E2EBFA;\n",
              "      box-shadow: 0px 1px 2px rgba(60, 64, 67, 0.3), 0px 1px 3px 1px rgba(60, 64, 67, 0.15);\n",
              "      fill: #174EA6;\n",
              "    }\n",
              "\n",
              "    [theme=dark] .colab-df-convert {\n",
              "      background-color: #3B4455;\n",
              "      fill: #D2E3FC;\n",
              "    }\n",
              "\n",
              "    [theme=dark] .colab-df-convert:hover {\n",
              "      background-color: #434B5C;\n",
              "      box-shadow: 0px 1px 3px 1px rgba(0, 0, 0, 0.15);\n",
              "      filter: drop-shadow(0px 1px 2px rgba(0, 0, 0, 0.3));\n",
              "      fill: #FFFFFF;\n",
              "    }\n",
              "  </style>\n",
              "\n",
              "      <script>\n",
              "        const buttonEl =\n",
              "          document.querySelector('#df-7e5f0d52-e3d4-49b0-b7de-1104313e40a4 button.colab-df-convert');\n",
              "        buttonEl.style.display =\n",
              "          google.colab.kernel.accessAllowed ? 'block' : 'none';\n",
              "\n",
              "        async function convertToInteractive(key) {\n",
              "          const element = document.querySelector('#df-7e5f0d52-e3d4-49b0-b7de-1104313e40a4');\n",
              "          const dataTable =\n",
              "            await google.colab.kernel.invokeFunction('convertToInteractive',\n",
              "                                                     [key], {});\n",
              "          if (!dataTable) return;\n",
              "\n",
              "          const docLinkHtml = 'Like what you see? Visit the ' +\n",
              "            '<a target=\"_blank\" href=https://colab.research.google.com/notebooks/data_table.ipynb>data table notebook</a>'\n",
              "            + ' to learn more about interactive tables.';\n",
              "          element.innerHTML = '';\n",
              "          dataTable['output_type'] = 'display_data';\n",
              "          await google.colab.output.renderOutput(dataTable, element);\n",
              "          const docLink = document.createElement('div');\n",
              "          docLink.innerHTML = docLinkHtml;\n",
              "          element.appendChild(docLink);\n",
              "        }\n",
              "      </script>\n",
              "    </div>\n",
              "  </div>\n",
              "  "
            ]
          },
          "metadata": {},
          "execution_count": 113
        }
      ]
    },
    {
      "cell_type": "code",
      "source": [
        "RFM= data3.groupby('user_id').agg(Recency=('last_purchase',lambda x: x.min()),\n",
        "                                 Frequency=('user_id',lambda x: x.count()),\n",
        "                                 Monetary=('money_spent',lambda x: x.sum()))\n",
        "RFM.head()"
      ],
      "metadata": {
        "colab": {
          "base_uri": "https://localhost:8080/",
          "height": 238
        },
        "id": "b0ScGgwMu3r2",
        "outputId": "05af8057-4dfc-49a8-d73a-b2cc33ce1062"
      },
      "execution_count": null,
      "outputs": [
        {
          "output_type": "execute_result",
          "data": {
            "text/plain": [
              "           Recency  Frequency  Monetary\n",
              "user_id                                \n",
              "299358698    174.0          1    154.19\n",
              "304707635    170.0          1   2007.52\n",
              "307138432    175.0          1    106.57\n",
              "315835876    159.0          1    169.89\n",
              "366237542    164.0          1    126.90"
            ],
            "text/html": [
              "\n",
              "  <div id=\"df-8ca3e970-cca4-43e0-8eaa-9bbe15ceb96f\">\n",
              "    <div class=\"colab-df-container\">\n",
              "      <div>\n",
              "<style scoped>\n",
              "    .dataframe tbody tr th:only-of-type {\n",
              "        vertical-align: middle;\n",
              "    }\n",
              "\n",
              "    .dataframe tbody tr th {\n",
              "        vertical-align: top;\n",
              "    }\n",
              "\n",
              "    .dataframe thead th {\n",
              "        text-align: right;\n",
              "    }\n",
              "</style>\n",
              "<table border=\"1\" class=\"dataframe\">\n",
              "  <thead>\n",
              "    <tr style=\"text-align: right;\">\n",
              "      <th></th>\n",
              "      <th>Recency</th>\n",
              "      <th>Frequency</th>\n",
              "      <th>Monetary</th>\n",
              "    </tr>\n",
              "    <tr>\n",
              "      <th>user_id</th>\n",
              "      <th></th>\n",
              "      <th></th>\n",
              "      <th></th>\n",
              "    </tr>\n",
              "  </thead>\n",
              "  <tbody>\n",
              "    <tr>\n",
              "      <th>299358698</th>\n",
              "      <td>174.0</td>\n",
              "      <td>1</td>\n",
              "      <td>154.19</td>\n",
              "    </tr>\n",
              "    <tr>\n",
              "      <th>304707635</th>\n",
              "      <td>170.0</td>\n",
              "      <td>1</td>\n",
              "      <td>2007.52</td>\n",
              "    </tr>\n",
              "    <tr>\n",
              "      <th>307138432</th>\n",
              "      <td>175.0</td>\n",
              "      <td>1</td>\n",
              "      <td>106.57</td>\n",
              "    </tr>\n",
              "    <tr>\n",
              "      <th>315835876</th>\n",
              "      <td>159.0</td>\n",
              "      <td>1</td>\n",
              "      <td>169.89</td>\n",
              "    </tr>\n",
              "    <tr>\n",
              "      <th>366237542</th>\n",
              "      <td>164.0</td>\n",
              "      <td>1</td>\n",
              "      <td>126.90</td>\n",
              "    </tr>\n",
              "  </tbody>\n",
              "</table>\n",
              "</div>\n",
              "      <button class=\"colab-df-convert\" onclick=\"convertToInteractive('df-8ca3e970-cca4-43e0-8eaa-9bbe15ceb96f')\"\n",
              "              title=\"Convert this dataframe to an interactive table.\"\n",
              "              style=\"display:none;\">\n",
              "        \n",
              "  <svg xmlns=\"http://www.w3.org/2000/svg\" height=\"24px\"viewBox=\"0 0 24 24\"\n",
              "       width=\"24px\">\n",
              "    <path d=\"M0 0h24v24H0V0z\" fill=\"none\"/>\n",
              "    <path d=\"M18.56 5.44l.94 2.06.94-2.06 2.06-.94-2.06-.94-.94-2.06-.94 2.06-2.06.94zm-11 1L8.5 8.5l.94-2.06 2.06-.94-2.06-.94L8.5 2.5l-.94 2.06-2.06.94zm10 10l.94 2.06.94-2.06 2.06-.94-2.06-.94-.94-2.06-.94 2.06-2.06.94z\"/><path d=\"M17.41 7.96l-1.37-1.37c-.4-.4-.92-.59-1.43-.59-.52 0-1.04.2-1.43.59L10.3 9.45l-7.72 7.72c-.78.78-.78 2.05 0 2.83L4 21.41c.39.39.9.59 1.41.59.51 0 1.02-.2 1.41-.59l7.78-7.78 2.81-2.81c.8-.78.8-2.07 0-2.86zM5.41 20L4 18.59l7.72-7.72 1.47 1.35L5.41 20z\"/>\n",
              "  </svg>\n",
              "      </button>\n",
              "      \n",
              "  <style>\n",
              "    .colab-df-container {\n",
              "      display:flex;\n",
              "      flex-wrap:wrap;\n",
              "      gap: 12px;\n",
              "    }\n",
              "\n",
              "    .colab-df-convert {\n",
              "      background-color: #E8F0FE;\n",
              "      border: none;\n",
              "      border-radius: 50%;\n",
              "      cursor: pointer;\n",
              "      display: none;\n",
              "      fill: #1967D2;\n",
              "      height: 32px;\n",
              "      padding: 0 0 0 0;\n",
              "      width: 32px;\n",
              "    }\n",
              "\n",
              "    .colab-df-convert:hover {\n",
              "      background-color: #E2EBFA;\n",
              "      box-shadow: 0px 1px 2px rgba(60, 64, 67, 0.3), 0px 1px 3px 1px rgba(60, 64, 67, 0.15);\n",
              "      fill: #174EA6;\n",
              "    }\n",
              "\n",
              "    [theme=dark] .colab-df-convert {\n",
              "      background-color: #3B4455;\n",
              "      fill: #D2E3FC;\n",
              "    }\n",
              "\n",
              "    [theme=dark] .colab-df-convert:hover {\n",
              "      background-color: #434B5C;\n",
              "      box-shadow: 0px 1px 3px 1px rgba(0, 0, 0, 0.15);\n",
              "      filter: drop-shadow(0px 1px 2px rgba(0, 0, 0, 0.3));\n",
              "      fill: #FFFFFF;\n",
              "    }\n",
              "  </style>\n",
              "\n",
              "      <script>\n",
              "        const buttonEl =\n",
              "          document.querySelector('#df-8ca3e970-cca4-43e0-8eaa-9bbe15ceb96f button.colab-df-convert');\n",
              "        buttonEl.style.display =\n",
              "          google.colab.kernel.accessAllowed ? 'block' : 'none';\n",
              "\n",
              "        async function convertToInteractive(key) {\n",
              "          const element = document.querySelector('#df-8ca3e970-cca4-43e0-8eaa-9bbe15ceb96f');\n",
              "          const dataTable =\n",
              "            await google.colab.kernel.invokeFunction('convertToInteractive',\n",
              "                                                     [key], {});\n",
              "          if (!dataTable) return;\n",
              "\n",
              "          const docLinkHtml = 'Like what you see? Visit the ' +\n",
              "            '<a target=\"_blank\" href=https://colab.research.google.com/notebooks/data_table.ipynb>data table notebook</a>'\n",
              "            + ' to learn more about interactive tables.';\n",
              "          element.innerHTML = '';\n",
              "          dataTable['output_type'] = 'display_data';\n",
              "          await google.colab.output.renderOutput(dataTable, element);\n",
              "          const docLink = document.createElement('div');\n",
              "          docLink.innerHTML = docLinkHtml;\n",
              "          element.appendChild(docLink);\n",
              "        }\n",
              "      </script>\n",
              "    </div>\n",
              "  </div>\n",
              "  "
            ]
          },
          "metadata": {},
          "execution_count": 114
        }
      ]
    },
    {
      "cell_type": "code",
      "source": [
        "RFM.quantile(q=[0.25,0.5,0.75])"
      ],
      "metadata": {
        "colab": {
          "base_uri": "https://localhost:8080/",
          "height": 143
        },
        "id": "xGalGtVVvHeX",
        "outputId": "8c68b307-454a-48bc-f61b-b28cd9e850f7"
      },
      "execution_count": null,
      "outputs": [
        {
          "output_type": "execute_result",
          "data": {
            "text/plain": [
              "      Recency  Frequency  Monetary\n",
              "0.25    165.0        1.0   202.320\n",
              "0.50    174.0        1.0   408.805\n",
              "0.75    193.0        2.0   999.000"
            ],
            "text/html": [
              "\n",
              "  <div id=\"df-c9a03b40-0959-4e5d-a0c6-8818b8242390\">\n",
              "    <div class=\"colab-df-container\">\n",
              "      <div>\n",
              "<style scoped>\n",
              "    .dataframe tbody tr th:only-of-type {\n",
              "        vertical-align: middle;\n",
              "    }\n",
              "\n",
              "    .dataframe tbody tr th {\n",
              "        vertical-align: top;\n",
              "    }\n",
              "\n",
              "    .dataframe thead th {\n",
              "        text-align: right;\n",
              "    }\n",
              "</style>\n",
              "<table border=\"1\" class=\"dataframe\">\n",
              "  <thead>\n",
              "    <tr style=\"text-align: right;\">\n",
              "      <th></th>\n",
              "      <th>Recency</th>\n",
              "      <th>Frequency</th>\n",
              "      <th>Monetary</th>\n",
              "    </tr>\n",
              "  </thead>\n",
              "  <tbody>\n",
              "    <tr>\n",
              "      <th>0.25</th>\n",
              "      <td>165.0</td>\n",
              "      <td>1.0</td>\n",
              "      <td>202.320</td>\n",
              "    </tr>\n",
              "    <tr>\n",
              "      <th>0.50</th>\n",
              "      <td>174.0</td>\n",
              "      <td>1.0</td>\n",
              "      <td>408.805</td>\n",
              "    </tr>\n",
              "    <tr>\n",
              "      <th>0.75</th>\n",
              "      <td>193.0</td>\n",
              "      <td>2.0</td>\n",
              "      <td>999.000</td>\n",
              "    </tr>\n",
              "  </tbody>\n",
              "</table>\n",
              "</div>\n",
              "      <button class=\"colab-df-convert\" onclick=\"convertToInteractive('df-c9a03b40-0959-4e5d-a0c6-8818b8242390')\"\n",
              "              title=\"Convert this dataframe to an interactive table.\"\n",
              "              style=\"display:none;\">\n",
              "        \n",
              "  <svg xmlns=\"http://www.w3.org/2000/svg\" height=\"24px\"viewBox=\"0 0 24 24\"\n",
              "       width=\"24px\">\n",
              "    <path d=\"M0 0h24v24H0V0z\" fill=\"none\"/>\n",
              "    <path d=\"M18.56 5.44l.94 2.06.94-2.06 2.06-.94-2.06-.94-.94-2.06-.94 2.06-2.06.94zm-11 1L8.5 8.5l.94-2.06 2.06-.94-2.06-.94L8.5 2.5l-.94 2.06-2.06.94zm10 10l.94 2.06.94-2.06 2.06-.94-2.06-.94-.94-2.06-.94 2.06-2.06.94z\"/><path d=\"M17.41 7.96l-1.37-1.37c-.4-.4-.92-.59-1.43-.59-.52 0-1.04.2-1.43.59L10.3 9.45l-7.72 7.72c-.78.78-.78 2.05 0 2.83L4 21.41c.39.39.9.59 1.41.59.51 0 1.02-.2 1.41-.59l7.78-7.78 2.81-2.81c.8-.78.8-2.07 0-2.86zM5.41 20L4 18.59l7.72-7.72 1.47 1.35L5.41 20z\"/>\n",
              "  </svg>\n",
              "      </button>\n",
              "      \n",
              "  <style>\n",
              "    .colab-df-container {\n",
              "      display:flex;\n",
              "      flex-wrap:wrap;\n",
              "      gap: 12px;\n",
              "    }\n",
              "\n",
              "    .colab-df-convert {\n",
              "      background-color: #E8F0FE;\n",
              "      border: none;\n",
              "      border-radius: 50%;\n",
              "      cursor: pointer;\n",
              "      display: none;\n",
              "      fill: #1967D2;\n",
              "      height: 32px;\n",
              "      padding: 0 0 0 0;\n",
              "      width: 32px;\n",
              "    }\n",
              "\n",
              "    .colab-df-convert:hover {\n",
              "      background-color: #E2EBFA;\n",
              "      box-shadow: 0px 1px 2px rgba(60, 64, 67, 0.3), 0px 1px 3px 1px rgba(60, 64, 67, 0.15);\n",
              "      fill: #174EA6;\n",
              "    }\n",
              "\n",
              "    [theme=dark] .colab-df-convert {\n",
              "      background-color: #3B4455;\n",
              "      fill: #D2E3FC;\n",
              "    }\n",
              "\n",
              "    [theme=dark] .colab-df-convert:hover {\n",
              "      background-color: #434B5C;\n",
              "      box-shadow: 0px 1px 3px 1px rgba(0, 0, 0, 0.15);\n",
              "      filter: drop-shadow(0px 1px 2px rgba(0, 0, 0, 0.3));\n",
              "      fill: #FFFFFF;\n",
              "    }\n",
              "  </style>\n",
              "\n",
              "      <script>\n",
              "        const buttonEl =\n",
              "          document.querySelector('#df-c9a03b40-0959-4e5d-a0c6-8818b8242390 button.colab-df-convert');\n",
              "        buttonEl.style.display =\n",
              "          google.colab.kernel.accessAllowed ? 'block' : 'none';\n",
              "\n",
              "        async function convertToInteractive(key) {\n",
              "          const element = document.querySelector('#df-c9a03b40-0959-4e5d-a0c6-8818b8242390');\n",
              "          const dataTable =\n",
              "            await google.colab.kernel.invokeFunction('convertToInteractive',\n",
              "                                                     [key], {});\n",
              "          if (!dataTable) return;\n",
              "\n",
              "          const docLinkHtml = 'Like what you see? Visit the ' +\n",
              "            '<a target=\"_blank\" href=https://colab.research.google.com/notebooks/data_table.ipynb>data table notebook</a>'\n",
              "            + ' to learn more about interactive tables.';\n",
              "          element.innerHTML = '';\n",
              "          dataTable['output_type'] = 'display_data';\n",
              "          await google.colab.output.renderOutput(dataTable, element);\n",
              "          const docLink = document.createElement('div');\n",
              "          docLink.innerHTML = docLinkHtml;\n",
              "          element.appendChild(docLink);\n",
              "        }\n",
              "      </script>\n",
              "    </div>\n",
              "  </div>\n",
              "  "
            ]
          },
          "metadata": {},
          "execution_count": 115
        }
      ]
    },
    {
      "cell_type": "code",
      "source": [
        "quartiles=RFM.quantile(q=[0.25,0.5,0.75]).to_dict()\n",
        "quartiles"
      ],
      "metadata": {
        "colab": {
          "base_uri": "https://localhost:8080/"
        },
        "id": "jMYYRGhHvL_b",
        "outputId": "bb5e1c27-e7f7-4df5-eb24-b5c7f7045d5d"
      },
      "execution_count": null,
      "outputs": [
        {
          "output_type": "execute_result",
          "data": {
            "text/plain": [
              "{'Recency': {0.25: 165.0, 0.5: 174.0, 0.75: 193.0},\n",
              " 'Frequency': {0.25: 1.0, 0.5: 1.0, 0.75: 2.0},\n",
              " 'Monetary': {0.25: 202.32, 0.5: 408.805, 0.75: 999.0}}"
            ]
          },
          "metadata": {},
          "execution_count": 116
        }
      ]
    },
    {
      "cell_type": "code",
      "source": [
        "## segmentación por Recency \n",
        "\n",
        "def R(x,p,d):\n",
        "    if x <= d[p][0.25]:\n",
        "        return 1\n",
        "    elif x <= d[p][0.50]:\n",
        "        return 2\n",
        "    elif x <= d[p][0.75]: \n",
        "        return 3\n",
        "    else:\n",
        "        return 4\n",
        "    \n",
        "## for Frequency and Monetary \n",
        "\n",
        "def FM(x,p,d):\n",
        "    if x <= d[p][0.25]:\n",
        "        return 4\n",
        "    elif x <= d[p][0.50]:\n",
        "        return 3\n",
        "    elif x <= d[p][0.75]: \n",
        "        return 2\n",
        "    else:\n",
        "        return 1 "
      ],
      "metadata": {
        "id": "ULek6U7zvUSR"
      },
      "execution_count": null,
      "outputs": []
    },
    {
      "cell_type": "code",
      "source": [
        "#creación RFM segmentacion columna\n",
        "RFM['R_Quartile'] = RFM['Recency'].apply(R, args=('Recency',quartiles,))\n",
        "RFM['F_Quartile'] = RFM['Frequency'].apply(FM, args=('Frequency',quartiles,))\n",
        "RFM['M_Quartile'] = RFM['Monetary'].apply(FM, args=('Monetary',quartiles,))\n",
        "RFM['RFM_segmentation'] = RFM.R_Quartile.map(str) \\\n",
        "                    + RFM.F_Quartile.map(str) \\\n",
        "                    + RFM.M_Quartile.map(str)\n",
        "RFM['RFM_score'] = RFM.R_Quartile.map(int) \\\n",
        "                    + RFM.F_Quartile.map(int) \\\n",
        "                    + RFM.M_Quartile.map(int)\n",
        "RFM.head()"
      ],
      "metadata": {
        "colab": {
          "base_uri": "https://localhost:8080/",
          "height": 238
        },
        "id": "2Y1HpqeLvalJ",
        "outputId": "a5fb7925-dff0-4a97-963e-6ade1d1ffd4c"
      },
      "execution_count": null,
      "outputs": [
        {
          "output_type": "execute_result",
          "data": {
            "text/plain": [
              "           Recency  Frequency  Monetary  R_Quartile  F_Quartile  M_Quartile  \\\n",
              "user_id                                                                       \n",
              "299358698    174.0          1    154.19           2           4           4   \n",
              "304707635    170.0          1   2007.52           2           4           1   \n",
              "307138432    175.0          1    106.57           3           4           4   \n",
              "315835876    159.0          1    169.89           1           4           4   \n",
              "366237542    164.0          1    126.90           1           4           4   \n",
              "\n",
              "          RFM_segmentation  RFM_score  \n",
              "user_id                                \n",
              "299358698              244         10  \n",
              "304707635              241          7  \n",
              "307138432              344         11  \n",
              "315835876              144          9  \n",
              "366237542              144          9  "
            ],
            "text/html": [
              "\n",
              "  <div id=\"df-857ba0ad-5300-40ac-8d2a-9c38802f5fad\">\n",
              "    <div class=\"colab-df-container\">\n",
              "      <div>\n",
              "<style scoped>\n",
              "    .dataframe tbody tr th:only-of-type {\n",
              "        vertical-align: middle;\n",
              "    }\n",
              "\n",
              "    .dataframe tbody tr th {\n",
              "        vertical-align: top;\n",
              "    }\n",
              "\n",
              "    .dataframe thead th {\n",
              "        text-align: right;\n",
              "    }\n",
              "</style>\n",
              "<table border=\"1\" class=\"dataframe\">\n",
              "  <thead>\n",
              "    <tr style=\"text-align: right;\">\n",
              "      <th></th>\n",
              "      <th>Recency</th>\n",
              "      <th>Frequency</th>\n",
              "      <th>Monetary</th>\n",
              "      <th>R_Quartile</th>\n",
              "      <th>F_Quartile</th>\n",
              "      <th>M_Quartile</th>\n",
              "      <th>RFM_segmentation</th>\n",
              "      <th>RFM_score</th>\n",
              "    </tr>\n",
              "    <tr>\n",
              "      <th>user_id</th>\n",
              "      <th></th>\n",
              "      <th></th>\n",
              "      <th></th>\n",
              "      <th></th>\n",
              "      <th></th>\n",
              "      <th></th>\n",
              "      <th></th>\n",
              "      <th></th>\n",
              "    </tr>\n",
              "  </thead>\n",
              "  <tbody>\n",
              "    <tr>\n",
              "      <th>299358698</th>\n",
              "      <td>174.0</td>\n",
              "      <td>1</td>\n",
              "      <td>154.19</td>\n",
              "      <td>2</td>\n",
              "      <td>4</td>\n",
              "      <td>4</td>\n",
              "      <td>244</td>\n",
              "      <td>10</td>\n",
              "    </tr>\n",
              "    <tr>\n",
              "      <th>304707635</th>\n",
              "      <td>170.0</td>\n",
              "      <td>1</td>\n",
              "      <td>2007.52</td>\n",
              "      <td>2</td>\n",
              "      <td>4</td>\n",
              "      <td>1</td>\n",
              "      <td>241</td>\n",
              "      <td>7</td>\n",
              "    </tr>\n",
              "    <tr>\n",
              "      <th>307138432</th>\n",
              "      <td>175.0</td>\n",
              "      <td>1</td>\n",
              "      <td>106.57</td>\n",
              "      <td>3</td>\n",
              "      <td>4</td>\n",
              "      <td>4</td>\n",
              "      <td>344</td>\n",
              "      <td>11</td>\n",
              "    </tr>\n",
              "    <tr>\n",
              "      <th>315835876</th>\n",
              "      <td>159.0</td>\n",
              "      <td>1</td>\n",
              "      <td>169.89</td>\n",
              "      <td>1</td>\n",
              "      <td>4</td>\n",
              "      <td>4</td>\n",
              "      <td>144</td>\n",
              "      <td>9</td>\n",
              "    </tr>\n",
              "    <tr>\n",
              "      <th>366237542</th>\n",
              "      <td>164.0</td>\n",
              "      <td>1</td>\n",
              "      <td>126.90</td>\n",
              "      <td>1</td>\n",
              "      <td>4</td>\n",
              "      <td>4</td>\n",
              "      <td>144</td>\n",
              "      <td>9</td>\n",
              "    </tr>\n",
              "  </tbody>\n",
              "</table>\n",
              "</div>\n",
              "      <button class=\"colab-df-convert\" onclick=\"convertToInteractive('df-857ba0ad-5300-40ac-8d2a-9c38802f5fad')\"\n",
              "              title=\"Convert this dataframe to an interactive table.\"\n",
              "              style=\"display:none;\">\n",
              "        \n",
              "  <svg xmlns=\"http://www.w3.org/2000/svg\" height=\"24px\"viewBox=\"0 0 24 24\"\n",
              "       width=\"24px\">\n",
              "    <path d=\"M0 0h24v24H0V0z\" fill=\"none\"/>\n",
              "    <path d=\"M18.56 5.44l.94 2.06.94-2.06 2.06-.94-2.06-.94-.94-2.06-.94 2.06-2.06.94zm-11 1L8.5 8.5l.94-2.06 2.06-.94-2.06-.94L8.5 2.5l-.94 2.06-2.06.94zm10 10l.94 2.06.94-2.06 2.06-.94-2.06-.94-.94-2.06-.94 2.06-2.06.94z\"/><path d=\"M17.41 7.96l-1.37-1.37c-.4-.4-.92-.59-1.43-.59-.52 0-1.04.2-1.43.59L10.3 9.45l-7.72 7.72c-.78.78-.78 2.05 0 2.83L4 21.41c.39.39.9.59 1.41.59.51 0 1.02-.2 1.41-.59l7.78-7.78 2.81-2.81c.8-.78.8-2.07 0-2.86zM5.41 20L4 18.59l7.72-7.72 1.47 1.35L5.41 20z\"/>\n",
              "  </svg>\n",
              "      </button>\n",
              "      \n",
              "  <style>\n",
              "    .colab-df-container {\n",
              "      display:flex;\n",
              "      flex-wrap:wrap;\n",
              "      gap: 12px;\n",
              "    }\n",
              "\n",
              "    .colab-df-convert {\n",
              "      background-color: #E8F0FE;\n",
              "      border: none;\n",
              "      border-radius: 50%;\n",
              "      cursor: pointer;\n",
              "      display: none;\n",
              "      fill: #1967D2;\n",
              "      height: 32px;\n",
              "      padding: 0 0 0 0;\n",
              "      width: 32px;\n",
              "    }\n",
              "\n",
              "    .colab-df-convert:hover {\n",
              "      background-color: #E2EBFA;\n",
              "      box-shadow: 0px 1px 2px rgba(60, 64, 67, 0.3), 0px 1px 3px 1px rgba(60, 64, 67, 0.15);\n",
              "      fill: #174EA6;\n",
              "    }\n",
              "\n",
              "    [theme=dark] .colab-df-convert {\n",
              "      background-color: #3B4455;\n",
              "      fill: #D2E3FC;\n",
              "    }\n",
              "\n",
              "    [theme=dark] .colab-df-convert:hover {\n",
              "      background-color: #434B5C;\n",
              "      box-shadow: 0px 1px 3px 1px rgba(0, 0, 0, 0.15);\n",
              "      filter: drop-shadow(0px 1px 2px rgba(0, 0, 0, 0.3));\n",
              "      fill: #FFFFFF;\n",
              "    }\n",
              "  </style>\n",
              "\n",
              "      <script>\n",
              "        const buttonEl =\n",
              "          document.querySelector('#df-857ba0ad-5300-40ac-8d2a-9c38802f5fad button.colab-df-convert');\n",
              "        buttonEl.style.display =\n",
              "          google.colab.kernel.accessAllowed ? 'block' : 'none';\n",
              "\n",
              "        async function convertToInteractive(key) {\n",
              "          const element = document.querySelector('#df-857ba0ad-5300-40ac-8d2a-9c38802f5fad');\n",
              "          const dataTable =\n",
              "            await google.colab.kernel.invokeFunction('convertToInteractive',\n",
              "                                                     [key], {});\n",
              "          if (!dataTable) return;\n",
              "\n",
              "          const docLinkHtml = 'Like what you see? Visit the ' +\n",
              "            '<a target=\"_blank\" href=https://colab.research.google.com/notebooks/data_table.ipynb>data table notebook</a>'\n",
              "            + ' to learn more about interactive tables.';\n",
              "          element.innerHTML = '';\n",
              "          dataTable['output_type'] = 'display_data';\n",
              "          await google.colab.output.renderOutput(dataTable, element);\n",
              "          const docLink = document.createElement('div');\n",
              "          docLink.innerHTML = docLinkHtml;\n",
              "          element.appendChild(docLink);\n",
              "        }\n",
              "      </script>\n",
              "    </div>\n",
              "  </div>\n",
              "  "
            ]
          },
          "metadata": {},
          "execution_count": 118
        }
      ]
    },
    {
      "cell_type": "code",
      "source": [
        "# Defino rfm_nivel\n",
        "def RFM_label(data):\n",
        "    if data['RFM_score'] >= 10:\n",
        "        return 'Lost'\n",
        "    elif ((data['RFM_score'] >= 9) and (data['RFM_score'] < 10)):\n",
        "        return 'Hibernating'\n",
        "    elif ((data['RFM_score'] >= 8) and (data['RFM_score'] < 9)):\n",
        "        return 'Can’t Lose Them'\n",
        "    elif ((data['RFM_score'] >= 7) and (data['RFM_score'] < 8)):\n",
        "        return 'About To Sleep'\n",
        "    elif ((data['RFM_score'] >= 6) and (data['RFM_score'] < 7)):\n",
        "        return 'Promising'\n",
        "    elif ((data['RFM_score'] >= 5) and (data['RFM_score'] < 6)):\n",
        "        return 'Potential Loyalist'\n",
        "    elif ((data['RFM_score'] >= 4) and (data['RFM_score'] < 5)):\n",
        "        return 'Loyal Customers'\n",
        "    else:\n",
        "        return 'Champions'\n",
        "\n",
        "RFM['RFM_label'] = RFM.apply(RFM_label, axis=1)\n",
        "RFM.head()"
      ],
      "metadata": {
        "colab": {
          "base_uri": "https://localhost:8080/",
          "height": 238
        },
        "id": "4xQPXpt-vlMj",
        "outputId": "bfd5280b-24a5-439c-fcb7-1ffb52c270bd"
      },
      "execution_count": null,
      "outputs": [
        {
          "output_type": "execute_result",
          "data": {
            "text/plain": [
              "           Recency  Frequency  Monetary  R_Quartile  F_Quartile  M_Quartile  \\\n",
              "user_id                                                                       \n",
              "299358698    174.0          1    154.19           2           4           4   \n",
              "304707635    170.0          1   2007.52           2           4           1   \n",
              "307138432    175.0          1    106.57           3           4           4   \n",
              "315835876    159.0          1    169.89           1           4           4   \n",
              "366237542    164.0          1    126.90           1           4           4   \n",
              "\n",
              "          RFM_segmentation  RFM_score       RFM_label  \n",
              "user_id                                                \n",
              "299358698              244         10            Lost  \n",
              "304707635              241          7  About To Sleep  \n",
              "307138432              344         11            Lost  \n",
              "315835876              144          9     Hibernating  \n",
              "366237542              144          9     Hibernating  "
            ],
            "text/html": [
              "\n",
              "  <div id=\"df-865466af-454b-47b7-babc-26209b97a14e\">\n",
              "    <div class=\"colab-df-container\">\n",
              "      <div>\n",
              "<style scoped>\n",
              "    .dataframe tbody tr th:only-of-type {\n",
              "        vertical-align: middle;\n",
              "    }\n",
              "\n",
              "    .dataframe tbody tr th {\n",
              "        vertical-align: top;\n",
              "    }\n",
              "\n",
              "    .dataframe thead th {\n",
              "        text-align: right;\n",
              "    }\n",
              "</style>\n",
              "<table border=\"1\" class=\"dataframe\">\n",
              "  <thead>\n",
              "    <tr style=\"text-align: right;\">\n",
              "      <th></th>\n",
              "      <th>Recency</th>\n",
              "      <th>Frequency</th>\n",
              "      <th>Monetary</th>\n",
              "      <th>R_Quartile</th>\n",
              "      <th>F_Quartile</th>\n",
              "      <th>M_Quartile</th>\n",
              "      <th>RFM_segmentation</th>\n",
              "      <th>RFM_score</th>\n",
              "      <th>RFM_label</th>\n",
              "    </tr>\n",
              "    <tr>\n",
              "      <th>user_id</th>\n",
              "      <th></th>\n",
              "      <th></th>\n",
              "      <th></th>\n",
              "      <th></th>\n",
              "      <th></th>\n",
              "      <th></th>\n",
              "      <th></th>\n",
              "      <th></th>\n",
              "      <th></th>\n",
              "    </tr>\n",
              "  </thead>\n",
              "  <tbody>\n",
              "    <tr>\n",
              "      <th>299358698</th>\n",
              "      <td>174.0</td>\n",
              "      <td>1</td>\n",
              "      <td>154.19</td>\n",
              "      <td>2</td>\n",
              "      <td>4</td>\n",
              "      <td>4</td>\n",
              "      <td>244</td>\n",
              "      <td>10</td>\n",
              "      <td>Lost</td>\n",
              "    </tr>\n",
              "    <tr>\n",
              "      <th>304707635</th>\n",
              "      <td>170.0</td>\n",
              "      <td>1</td>\n",
              "      <td>2007.52</td>\n",
              "      <td>2</td>\n",
              "      <td>4</td>\n",
              "      <td>1</td>\n",
              "      <td>241</td>\n",
              "      <td>7</td>\n",
              "      <td>About To Sleep</td>\n",
              "    </tr>\n",
              "    <tr>\n",
              "      <th>307138432</th>\n",
              "      <td>175.0</td>\n",
              "      <td>1</td>\n",
              "      <td>106.57</td>\n",
              "      <td>3</td>\n",
              "      <td>4</td>\n",
              "      <td>4</td>\n",
              "      <td>344</td>\n",
              "      <td>11</td>\n",
              "      <td>Lost</td>\n",
              "    </tr>\n",
              "    <tr>\n",
              "      <th>315835876</th>\n",
              "      <td>159.0</td>\n",
              "      <td>1</td>\n",
              "      <td>169.89</td>\n",
              "      <td>1</td>\n",
              "      <td>4</td>\n",
              "      <td>4</td>\n",
              "      <td>144</td>\n",
              "      <td>9</td>\n",
              "      <td>Hibernating</td>\n",
              "    </tr>\n",
              "    <tr>\n",
              "      <th>366237542</th>\n",
              "      <td>164.0</td>\n",
              "      <td>1</td>\n",
              "      <td>126.90</td>\n",
              "      <td>1</td>\n",
              "      <td>4</td>\n",
              "      <td>4</td>\n",
              "      <td>144</td>\n",
              "      <td>9</td>\n",
              "      <td>Hibernating</td>\n",
              "    </tr>\n",
              "  </tbody>\n",
              "</table>\n",
              "</div>\n",
              "      <button class=\"colab-df-convert\" onclick=\"convertToInteractive('df-865466af-454b-47b7-babc-26209b97a14e')\"\n",
              "              title=\"Convert this dataframe to an interactive table.\"\n",
              "              style=\"display:none;\">\n",
              "        \n",
              "  <svg xmlns=\"http://www.w3.org/2000/svg\" height=\"24px\"viewBox=\"0 0 24 24\"\n",
              "       width=\"24px\">\n",
              "    <path d=\"M0 0h24v24H0V0z\" fill=\"none\"/>\n",
              "    <path d=\"M18.56 5.44l.94 2.06.94-2.06 2.06-.94-2.06-.94-.94-2.06-.94 2.06-2.06.94zm-11 1L8.5 8.5l.94-2.06 2.06-.94-2.06-.94L8.5 2.5l-.94 2.06-2.06.94zm10 10l.94 2.06.94-2.06 2.06-.94-2.06-.94-.94-2.06-.94 2.06-2.06.94z\"/><path d=\"M17.41 7.96l-1.37-1.37c-.4-.4-.92-.59-1.43-.59-.52 0-1.04.2-1.43.59L10.3 9.45l-7.72 7.72c-.78.78-.78 2.05 0 2.83L4 21.41c.39.39.9.59 1.41.59.51 0 1.02-.2 1.41-.59l7.78-7.78 2.81-2.81c.8-.78.8-2.07 0-2.86zM5.41 20L4 18.59l7.72-7.72 1.47 1.35L5.41 20z\"/>\n",
              "  </svg>\n",
              "      </button>\n",
              "      \n",
              "  <style>\n",
              "    .colab-df-container {\n",
              "      display:flex;\n",
              "      flex-wrap:wrap;\n",
              "      gap: 12px;\n",
              "    }\n",
              "\n",
              "    .colab-df-convert {\n",
              "      background-color: #E8F0FE;\n",
              "      border: none;\n",
              "      border-radius: 50%;\n",
              "      cursor: pointer;\n",
              "      display: none;\n",
              "      fill: #1967D2;\n",
              "      height: 32px;\n",
              "      padding: 0 0 0 0;\n",
              "      width: 32px;\n",
              "    }\n",
              "\n",
              "    .colab-df-convert:hover {\n",
              "      background-color: #E2EBFA;\n",
              "      box-shadow: 0px 1px 2px rgba(60, 64, 67, 0.3), 0px 1px 3px 1px rgba(60, 64, 67, 0.15);\n",
              "      fill: #174EA6;\n",
              "    }\n",
              "\n",
              "    [theme=dark] .colab-df-convert {\n",
              "      background-color: #3B4455;\n",
              "      fill: #D2E3FC;\n",
              "    }\n",
              "\n",
              "    [theme=dark] .colab-df-convert:hover {\n",
              "      background-color: #434B5C;\n",
              "      box-shadow: 0px 1px 3px 1px rgba(0, 0, 0, 0.15);\n",
              "      filter: drop-shadow(0px 1px 2px rgba(0, 0, 0, 0.3));\n",
              "      fill: #FFFFFF;\n",
              "    }\n",
              "  </style>\n",
              "\n",
              "      <script>\n",
              "        const buttonEl =\n",
              "          document.querySelector('#df-865466af-454b-47b7-babc-26209b97a14e button.colab-df-convert');\n",
              "        buttonEl.style.display =\n",
              "          google.colab.kernel.accessAllowed ? 'block' : 'none';\n",
              "\n",
              "        async function convertToInteractive(key) {\n",
              "          const element = document.querySelector('#df-865466af-454b-47b7-babc-26209b97a14e');\n",
              "          const dataTable =\n",
              "            await google.colab.kernel.invokeFunction('convertToInteractive',\n",
              "                                                     [key], {});\n",
              "          if (!dataTable) return;\n",
              "\n",
              "          const docLinkHtml = 'Like what you see? Visit the ' +\n",
              "            '<a target=\"_blank\" href=https://colab.research.google.com/notebooks/data_table.ipynb>data table notebook</a>'\n",
              "            + ' to learn more about interactive tables.';\n",
              "          element.innerHTML = '';\n",
              "          dataTable['output_type'] = 'display_data';\n",
              "          await google.colab.output.renderOutput(dataTable, element);\n",
              "          const docLink = document.createElement('div');\n",
              "          docLink.innerHTML = docLinkHtml;\n",
              "          element.appendChild(docLink);\n",
              "        }\n",
              "      </script>\n",
              "    </div>\n",
              "  </div>\n",
              "  "
            ]
          },
          "metadata": {},
          "execution_count": 119
        }
      ]
    },
    {
      "cell_type": "code",
      "source": [
        "# Calcular cuantos hay en cada nivel\n",
        "RFM_desc = RFM.groupby('RFM_label').agg({\n",
        "    'Recency': 'mean',\n",
        "    'Frequency': 'mean',\n",
        "    'Monetary': ['mean', 'count']\n",
        "}).round(1)\n",
        "\n",
        "print(RFM_desc)"
      ],
      "metadata": {
        "colab": {
          "base_uri": "https://localhost:8080/"
        },
        "id": "34LiE4OfvzM8",
        "outputId": "d050d894-bfca-495a-ff96-5f57a2b6d8c3"
      },
      "execution_count": null,
      "outputs": [
        {
          "output_type": "stream",
          "name": "stdout",
          "text": [
            "                   Recency Frequency Monetary        \n",
            "                      mean      mean     mean   count\n",
            "RFM_label                                            \n",
            "About To Sleep       171.4       1.5    959.1   33640\n",
            "Can’t Lose Them      170.0       1.2    643.0   42586\n",
            "Champions            154.6       7.6   5140.4   16223\n",
            "Hibernating          173.8       1.1    482.0   59016\n",
            "Lost                 191.2       1.0    247.8  111517\n",
            "Loyal Customers      161.5       4.1   2748.0   17880\n",
            "Potential Loyalist   169.9       3.6   2323.1   22093\n",
            "Promising            174.5       2.5   1511.9   26407\n"
          ]
        }
      ]
    },
    {
      "cell_type": "code",
      "source": [
        "RFM_desc.columns = RFM_desc.columns.droplevel()\n",
        "RFM_desc.columns = ['RecencyMean','FrequencyMean','MonetaryMean', 'Count']\n",
        "#Create our plot and resize it.\n",
        "fig = plt.gcf()\n",
        "ax = fig.add_subplot()\n",
        "fig.set_size_inches(16, 9)\n",
        "squarify.plot(sizes=RFM_desc['Count'], \n",
        "              label=['Lost',\n",
        "                     'Hibernating',\n",
        "                     'Can’t Lose Them',\n",
        "                     'About To Sleep',\n",
        "                     'Promising', \n",
        "                     'Potential Loyalist', \n",
        "                     'Loyal Customers',\n",
        "                     'Champions'], alpha=.6 )\n",
        "plt.title(\"RFM Segments\",fontsize=18,fontweight=\"bold\")\n",
        "plt.axis('off')\n",
        "plt.show()"
      ],
      "metadata": {
        "colab": {
          "base_uri": "https://localhost:8080/",
          "height": 540
        },
        "id": "zO1-RXB7wA0p",
        "outputId": "3e5ed3de-9578-496a-c376-cb7789c7a5b9"
      },
      "execution_count": null,
      "outputs": [
        {
          "output_type": "display_data",
          "data": {
            "text/plain": [
              "<Figure size 1152x648 with 1 Axes>"
            ],
            "image/png": "[encoded data removed]"
          },
          "metadata": {
            "needs_background": "light"
          }
        }
      ]
    }
  ]
}