{
 "cells": [
  {
   "cell_type": "code",
   "execution_count": 2,
   "id": "4d514b57",
   "metadata": {},
   "outputs": [],
   "source": [
    "import pandas as pd\n",
    "import time # para evaluar el tiempo necesario para obtener los datos\n",
    "\n",
    "# Creación del objeto de consulta de Google Trends\n",
    "from pytrends.request import TrendReq\n",
    "pytrends = TrendReq()"
   ]
  },
  {
   "cell_type": "code",
   "execution_count": null,
   "id": "a2cc8660",
   "metadata": {
    "scrolled": true
   },
   "outputs": [
    {
     "name": "stdout",
     "output_type": "stream",
     "text": [
      "The request failed: Google returned a response with code 500.\n",
      "The request failed: Google returned a response with code 500.\n",
      "The request failed: Google returned a response with code 500.\n",
      "The request failed: Google returned a response with code 500.\n",
      "The request failed: Google returned a response with code 500.\n",
      "The request failed: Google returned a response with code 500.\n",
      "The request failed: Google returned a response with code 500.\n",
      "The request failed: Google returned a response with code 500.\n",
      "The request failed: Google returned a response with code 500.\n",
      "The request failed: Google returned a response with code 500.\n",
      "The request failed: Google returned a response with code 500.\n",
      "The request failed: Google returned a response with code 500.\n",
      "The request failed: Google returned a response with code 500.\n",
      "The request failed: Google returned a response with code 500.\n",
      "The request failed: Google returned a response with code 500.\n",
      "The request failed: Google returned a response with code 500.\n",
      "The request failed: Google returned a response with code 500.\n",
      "The request failed: Google returned a response with code 500.\n",
      "The request failed: Google returned a response with code 500.\n",
      "The request failed: Google returned a response with code 500.\n",
      "The request failed: Google returned a response with code 500.\n",
      "The request failed: Google returned a response with code 500.\n"
     ]
    }
   ],
   "source": [
    "kw_list = ['Lego', 'Mobile Phone']\n",
    "\n",
    "pytrends.build_payload(kw_list)\n",
    "\n",
    "startTime = time.time()\n",
    "data = pytrends.get_historical_interest(kw_list,\n",
    "                                       year_start=2019,\n",
    "                                       month_start=4,\n",
    "                                       day_start=1,\n",
    "                                       hour_start=0,\n",
    "\n",
    "                                       year_end=2020,\n",
    "                                       month_end=10,\n",
    "                                       day_end=31,\n",
    "                                       hour_end=23,\n",
    "\n",
    "                                       sleep=60)  # Delay added for rate limit\n",
    "\n",
    "executionTime = (time.time() - startTime)\n",
    "print('Execution time in seconds: ' + str(executionTime))\n",
    "\n",
    "print(data)"
   ]
  },
  {
   "cell_type": "code",
   "execution_count": 12,
   "id": "39b7c2bf",
   "metadata": {},
   "outputs": [],
   "source": [
    "data.to_csv('GT_hist_Kisswill_04_2019_10_2020.csv')"
   ]
  }
 ],
 "metadata": {
  "kernelspec": {
   "display_name": "Python 3 (ipykernel)",
   "language": "python",
   "name": "python3"
  },
  "language_info": {
   "codemirror_mode": {
    "name": "ipython",
    "version": 3
   },
   "file_extension": ".py",
   "mimetype": "text/x-python",
   "name": "python",
   "nbconvert_exporter": "python",
   "pygments_lexer": "ipython3",
   "version": "3.9.7"
  }
 },
 "nbformat": 4,
 "nbformat_minor": 5
}
