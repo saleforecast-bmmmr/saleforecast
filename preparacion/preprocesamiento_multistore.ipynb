{
 "cells": [
  {
   "cell_type": "code",
   "execution_count": 29,
   "id": "6a0a391f",
   "metadata": {},
   "outputs": [],
   "source": [
    "import pandas as pd\n",
    "import numpy as np\n",
    "import os\n",
    "import glob"
   ]
  },
  {
   "cell_type": "code",
   "execution_count": 24,
   "id": "f69e763a",
   "metadata": {},
   "outputs": [],
   "source": [
    "multistore_months = ['2019-Oct', '2019-Nov', '2019-Dec', '2020-Jan', '2020-Feb', '2020-Mar', '2020-Apr']"
   ]
  },
  {
   "cell_type": "code",
   "execution_count": 41,
   "id": "936a119a",
   "metadata": {},
   "outputs": [],
   "source": [
    "path = r'./' # cambiar por la ruta propia\n",
    "\n",
    "def preprocess_month(month, path):\n",
    "    month_file_r = os.path.join(path + month + '.csv')\n",
    "    month_file_w = os.path.join(path + 'sales_multistore_' + month + '.csv')\n",
    "    \n",
    "    multistore_month_df = pd.read_csv(month_file_r)\n",
    "    \n",
    "    # Elimino las filas con nulos en las columnas 'category_code' y 'brand', porque no nos sirven sin esta información\n",
    "    multistore_month_df =  multistore_month_df.dropna(subset=['category_code', 'brand'])\n",
    "    \n",
    "    # Obtención del subset de eventos de compra\n",
    "    multistore_month_df =  multistore_month_df[ multistore_month_df['event_type'] == 'purchase']\n",
    "    \n",
    "    # Eliminación de la columna 'event_type'\n",
    "    multistore_month_df =  multistore_month_df.drop('event_type', axis=1)\n",
    "\n",
    "    multistore_month_df.to_csv(month_file_w, index=False)"
   ]
  },
  {
   "cell_type": "code",
   "execution_count": 26,
   "id": "03561b91",
   "metadata": {},
   "outputs": [],
   "source": [
    "# Creación de los csv \"limpios\"\n",
    "for m in multistore_months:\n",
    "    preprocess_month(m)"
   ]
  },
  {
   "cell_type": "code",
   "execution_count": 40,
   "id": "817effb1",
   "metadata": {},
   "outputs": [],
   "source": [
    "# Concatenación de los csv\n",
    "\n",
    "all_files = glob.glob(os.path.join(path , \"sales*.csv\"))\n",
    "\n",
    "multistore_sales_df = pd.concat((pd.read_csv(f) for f in all_files), ignore_index=True)    "
   ]
  },
  {
   "cell_type": "code",
   "execution_count": 38,
   "id": "80cccc1f",
   "metadata": {},
   "outputs": [
    {
     "data": {
      "text/plain": [
       "(5707926, 8)"
      ]
     },
     "execution_count": 38,
     "metadata": {},
     "output_type": "execute_result"
    }
   ],
   "source": [
    "multistore_sales_df.shape"
   ]
  },
  {
   "cell_type": "code",
   "execution_count": 43,
   "id": "0fdf146e",
   "metadata": {},
   "outputs": [],
   "source": [
    "multistore_sales_file_w = os.path.join(path + 'sales_multistore_10_2019_04_2020' + '.csv')\n",
    "multistore_sales_df.to_csv(multistore_sales_file_w, index=False)"
   ]
  },
  {
   "cell_type": "code",
   "execution_count": null,
   "id": "b386c719",
   "metadata": {},
   "outputs": [],
   "source": []
  }
 ],
 "metadata": {
  "kernelspec": {
   "display_name": "Python 3 (ipykernel)",
   "language": "python",
   "name": "python3"
  },
  "language_info": {
   "codemirror_mode": {
    "name": "ipython",
    "version": 3
   },
   "file_extension": ".py",
   "mimetype": "text/x-python",
   "name": "python",
   "nbconvert_exporter": "python",
   "pygments_lexer": "ipython3",
   "version": "3.9.7"
  }
 },
 "nbformat": 4,
 "nbformat_minor": 5
}
