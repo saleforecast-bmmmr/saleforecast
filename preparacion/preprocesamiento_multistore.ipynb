{
 "cells": [
  {
   "cell_type": "markdown",
   "id": "984d4ef7",
   "metadata": {},
   "source": [
    "# Preprocesamiento del dataset \"Multistore\""
   ]
  },
  {
   "cell_type": "code",
   "execution_count": 1,
   "id": "6a0a391f",
   "metadata": {},
   "outputs": [],
   "source": [
    "import pandas as pd\n",
    "import numpy as np\n",
    "import os\n",
    "import glob"
   ]
  },
  {
   "cell_type": "markdown",
   "id": "b364598f",
   "metadata": {},
   "source": [
    "## 1. Carga y concatenación de los archivos del dataset original"
   ]
  },
  {
   "cell_type": "code",
   "execution_count": 24,
   "id": "f69e763a",
   "metadata": {},
   "outputs": [],
   "source": [
    "multistore_months = ['2019-Oct', '2019-Nov', '2019-Dec', '2020-Jan', '2020-Feb', '2020-Mar', '2020-Apr']"
   ]
  },
  {
   "cell_type": "code",
   "execution_count": 41,
   "id": "936a119a",
   "metadata": {},
   "outputs": [],
   "source": [
    "path = r'./' # cambiar por la ruta propia\n",
    "\n",
    "def preprocess_month(month, path):\n",
    "    month_file_r = os.path.join(path + month + '.csv')\n",
    "    month_file_w = os.path.join(path + 'sales_multistore_' + month + '.csv')\n",
    "    \n",
    "    multistore_month_df = pd.read_csv(month_file_r)\n",
    "    \n",
    "    # Elimino las filas con nulos en las columnas 'category_code' y 'brand', porque no nos sirven sin esta información\n",
    "    multistore_month_df =  multistore_month_df.dropna(subset=['category_code', 'brand'])\n",
    "    \n",
    "    # Obtención del subset de eventos de compra\n",
    "    multistore_month_df =  multistore_month_df[ multistore_month_df['event_type'] == 'purchase']\n",
    "    \n",
    "    # Eliminación de la columna 'event_type'\n",
    "    multistore_month_df =  multistore_month_df.drop('event_type', axis=1)\n",
    "\n",
    "    multistore_month_df.to_csv(month_file_w, index=False)"
   ]
  },
  {
   "cell_type": "code",
   "execution_count": 26,
   "id": "03561b91",
   "metadata": {},
   "outputs": [],
   "source": [
    "# Creación de los csv \"limpios\"\n",
    "for m in multistore_months:\n",
    "    preprocess_month(m)"
   ]
  },
  {
   "cell_type": "code",
   "execution_count": 40,
   "id": "817effb1",
   "metadata": {},
   "outputs": [],
   "source": [
    "# Concatenación de los csv\n",
    "\n",
    "all_files = glob.glob(os.path.join(path , \"sales*.csv\"))\n",
    "\n",
    "multistore_sales_df = pd.concat((pd.read_csv(f) for f in all_files), ignore_index=True)    "
   ]
  },
  {
   "cell_type": "code",
   "execution_count": 38,
   "id": "80cccc1f",
   "metadata": {},
   "outputs": [
    {
     "data": {
      "text/plain": [
       "(5707926, 8)"
      ]
     },
     "execution_count": 38,
     "metadata": {},
     "output_type": "execute_result"
    }
   ],
   "source": [
    "multistore_sales_df.shape"
   ]
  },
  {
   "cell_type": "markdown",
   "id": "945aad4e",
   "metadata": {},
   "source": [
    "## 2. Limpieza previa de los datos"
   ]
  },
  {
   "cell_type": "markdown",
   "id": "ac595fd0",
   "metadata": {},
   "source": [
    "### 2.1 Filas duplicadas"
   ]
  },
  {
   "cell_type": "code",
   "execution_count": 8,
   "id": "30e4c084",
   "metadata": {},
   "outputs": [
    {
     "data": {
      "text/html": [
       "<div>\n",
       "<style scoped>\n",
       "    .dataframe tbody tr th:only-of-type {\n",
       "        vertical-align: middle;\n",
       "    }\n",
       "\n",
       "    .dataframe tbody tr th {\n",
       "        vertical-align: top;\n",
       "    }\n",
       "\n",
       "    .dataframe thead th {\n",
       "        text-align: right;\n",
       "    }\n",
       "</style>\n",
       "<table border=\"1\" class=\"dataframe\">\n",
       "  <thead>\n",
       "    <tr style=\"text-align: right;\">\n",
       "      <th></th>\n",
       "      <th>event_time</th>\n",
       "      <th>product_id</th>\n",
       "      <th>category_id</th>\n",
       "      <th>category_code</th>\n",
       "      <th>brand</th>\n",
       "      <th>price</th>\n",
       "      <th>user_id</th>\n",
       "      <th>user_session</th>\n",
       "    </tr>\n",
       "  </thead>\n",
       "  <tbody>\n",
       "    <tr>\n",
       "      <th>3310</th>\n",
       "      <td>2019-10-01 06:41:39 UTC</td>\n",
       "      <td>1004856</td>\n",
       "      <td>2053013555631882655</td>\n",
       "      <td>electronics.smartphone</td>\n",
       "      <td>samsung</td>\n",
       "      <td>130.76</td>\n",
       "      <td>555119233</td>\n",
       "      <td>53ad00ec-2d13-491c-9743-504913ea238c</td>\n",
       "    </tr>\n",
       "    <tr>\n",
       "      <th>9555</th>\n",
       "      <td>2019-10-01 12:42:40 UTC</td>\n",
       "      <td>1004767</td>\n",
       "      <td>2053013555631882655</td>\n",
       "      <td>electronics.smartphone</td>\n",
       "      <td>samsung</td>\n",
       "      <td>254.19</td>\n",
       "      <td>512386086</td>\n",
       "      <td>4a1f199d-e77b-4ff7-8807-47b31c1b6aca</td>\n",
       "    </tr>\n",
       "    <tr>\n",
       "      <th>49420</th>\n",
       "      <td>2019-10-04 07:20:16 UTC</td>\n",
       "      <td>5700758</td>\n",
       "      <td>2053013553970938175</td>\n",
       "      <td>auto.accessories.player</td>\n",
       "      <td>pioneer</td>\n",
       "      <td>75.94</td>\n",
       "      <td>517161433</td>\n",
       "      <td>80109315-6ff2-4b59-adec-f99cd75efb81</td>\n",
       "    </tr>\n",
       "    <tr>\n",
       "      <th>67687</th>\n",
       "      <td>2019-10-05 05:34:08 UTC</td>\n",
       "      <td>1004856</td>\n",
       "      <td>2053013555631882655</td>\n",
       "      <td>electronics.smartphone</td>\n",
       "      <td>samsung</td>\n",
       "      <td>131.92</td>\n",
       "      <td>535394720</td>\n",
       "      <td>af308845-2f01-43c0-a441-d70814450de6</td>\n",
       "    </tr>\n",
       "    <tr>\n",
       "      <th>79698</th>\n",
       "      <td>2019-10-05 16:37:05 UTC</td>\n",
       "      <td>1801690</td>\n",
       "      <td>2053013554415534427</td>\n",
       "      <td>electronics.video.tv</td>\n",
       "      <td>samsung</td>\n",
       "      <td>370.53</td>\n",
       "      <td>539724704</td>\n",
       "      <td>352cbf09-0d93-4086-9395-49605f75c59f</td>\n",
       "    </tr>\n",
       "    <tr>\n",
       "      <th>...</th>\n",
       "      <td>...</td>\n",
       "      <td>...</td>\n",
       "      <td>...</td>\n",
       "      <td>...</td>\n",
       "      <td>...</td>\n",
       "      <td>...</td>\n",
       "      <td>...</td>\n",
       "      <td>...</td>\n",
       "    </tr>\n",
       "    <tr>\n",
       "      <th>5297185</th>\n",
       "      <td>2020-04-16 17:00:09 UTC</td>\n",
       "      <td>24100688</td>\n",
       "      <td>2232732100954423843</td>\n",
       "      <td>appliances.personal.massager</td>\n",
       "      <td>kerasys</td>\n",
       "      <td>6.56</td>\n",
       "      <td>635946366</td>\n",
       "      <td>252d0d1f-23d9-4a36-bafd-82416840a9d1</td>\n",
       "    </tr>\n",
       "    <tr>\n",
       "      <th>5550832</th>\n",
       "      <td>2020-04-26 08:45:24 UTC</td>\n",
       "      <td>1002540</td>\n",
       "      <td>2232732093077520756</td>\n",
       "      <td>construction.tools.light</td>\n",
       "      <td>apple</td>\n",
       "      <td>409.78</td>\n",
       "      <td>515172019</td>\n",
       "      <td>5e8a156d-c481-4017-a550-63d4ba6ecaf8</td>\n",
       "    </tr>\n",
       "    <tr>\n",
       "      <th>5642867</th>\n",
       "      <td>2020-04-29 04:16:34 UTC</td>\n",
       "      <td>8800895</td>\n",
       "      <td>2053013560530830019</td>\n",
       "      <td>electronics.camera.video</td>\n",
       "      <td>bq</td>\n",
       "      <td>19.79</td>\n",
       "      <td>643856840</td>\n",
       "      <td>aa10f9d5-3275-4390-8b29-1e408b286f89</td>\n",
       "    </tr>\n",
       "    <tr>\n",
       "      <th>5666683</th>\n",
       "      <td>2020-04-29 15:33:22 UTC</td>\n",
       "      <td>1005169</td>\n",
       "      <td>2232732093077520756</td>\n",
       "      <td>construction.tools.light</td>\n",
       "      <td>samsung</td>\n",
       "      <td>180.42</td>\n",
       "      <td>648354166</td>\n",
       "      <td>2927cd4d-3a2a-4853-be26-f5139eff973f</td>\n",
       "    </tr>\n",
       "    <tr>\n",
       "      <th>5666781</th>\n",
       "      <td>2020-04-29 15:36:26 UTC</td>\n",
       "      <td>1005169</td>\n",
       "      <td>2232732093077520756</td>\n",
       "      <td>construction.tools.light</td>\n",
       "      <td>samsung</td>\n",
       "      <td>180.42</td>\n",
       "      <td>648354166</td>\n",
       "      <td>2927cd4d-3a2a-4853-be26-f5139eff973f</td>\n",
       "    </tr>\n",
       "  </tbody>\n",
       "</table>\n",
       "<p>134205 rows × 8 columns</p>\n",
       "</div>"
      ],
      "text/plain": [
       "                      event_time  product_id          category_id  \\\n",
       "3310     2019-10-01 06:41:39 UTC     1004856  2053013555631882655   \n",
       "9555     2019-10-01 12:42:40 UTC     1004767  2053013555631882655   \n",
       "49420    2019-10-04 07:20:16 UTC     5700758  2053013553970938175   \n",
       "67687    2019-10-05 05:34:08 UTC     1004856  2053013555631882655   \n",
       "79698    2019-10-05 16:37:05 UTC     1801690  2053013554415534427   \n",
       "...                          ...         ...                  ...   \n",
       "5297185  2020-04-16 17:00:09 UTC    24100688  2232732100954423843   \n",
       "5550832  2020-04-26 08:45:24 UTC     1002540  2232732093077520756   \n",
       "5642867  2020-04-29 04:16:34 UTC     8800895  2053013560530830019   \n",
       "5666683  2020-04-29 15:33:22 UTC     1005169  2232732093077520756   \n",
       "5666781  2020-04-29 15:36:26 UTC     1005169  2232732093077520756   \n",
       "\n",
       "                        category_code    brand   price    user_id  \\\n",
       "3310           electronics.smartphone  samsung  130.76  555119233   \n",
       "9555           electronics.smartphone  samsung  254.19  512386086   \n",
       "49420         auto.accessories.player  pioneer   75.94  517161433   \n",
       "67687          electronics.smartphone  samsung  131.92  535394720   \n",
       "79698            electronics.video.tv  samsung  370.53  539724704   \n",
       "...                               ...      ...     ...        ...   \n",
       "5297185  appliances.personal.massager  kerasys    6.56  635946366   \n",
       "5550832      construction.tools.light    apple  409.78  515172019   \n",
       "5642867      electronics.camera.video       bq   19.79  643856840   \n",
       "5666683      construction.tools.light  samsung  180.42  648354166   \n",
       "5666781      construction.tools.light  samsung  180.42  648354166   \n",
       "\n",
       "                                 user_session  \n",
       "3310     53ad00ec-2d13-491c-9743-504913ea238c  \n",
       "9555     4a1f199d-e77b-4ff7-8807-47b31c1b6aca  \n",
       "49420    80109315-6ff2-4b59-adec-f99cd75efb81  \n",
       "67687    af308845-2f01-43c0-a441-d70814450de6  \n",
       "79698    352cbf09-0d93-4086-9395-49605f75c59f  \n",
       "...                                       ...  \n",
       "5297185  252d0d1f-23d9-4a36-bafd-82416840a9d1  \n",
       "5550832  5e8a156d-c481-4017-a550-63d4ba6ecaf8  \n",
       "5642867  aa10f9d5-3275-4390-8b29-1e408b286f89  \n",
       "5666683  2927cd4d-3a2a-4853-be26-f5139eff973f  \n",
       "5666781  2927cd4d-3a2a-4853-be26-f5139eff973f  \n",
       "\n",
       "[134205 rows x 8 columns]"
      ]
     },
     "execution_count": 8,
     "metadata": {},
     "output_type": "execute_result"
    }
   ],
   "source": [
    "multistore_sales_df[multistore_sales_df.duplicated()]"
   ]
  },
  {
   "cell_type": "markdown",
   "id": "97544b32",
   "metadata": {},
   "source": [
    "¡Son muchas filas duplicadas! Espero que no haya ningún error en mi comando. Hago una comprobación y utilizo para ello el valor 'user_session' de la fila 3310."
   ]
  },
  {
   "cell_type": "code",
   "execution_count": 12,
   "id": "62c12fb3",
   "metadata": {},
   "outputs": [
    {
     "data": {
      "text/html": [
       "<div>\n",
       "<style scoped>\n",
       "    .dataframe tbody tr th:only-of-type {\n",
       "        vertical-align: middle;\n",
       "    }\n",
       "\n",
       "    .dataframe tbody tr th {\n",
       "        vertical-align: top;\n",
       "    }\n",
       "\n",
       "    .dataframe thead th {\n",
       "        text-align: right;\n",
       "    }\n",
       "</style>\n",
       "<table border=\"1\" class=\"dataframe\">\n",
       "  <thead>\n",
       "    <tr style=\"text-align: right;\">\n",
       "      <th></th>\n",
       "      <th>event_time</th>\n",
       "      <th>product_id</th>\n",
       "      <th>category_id</th>\n",
       "      <th>category_code</th>\n",
       "      <th>brand</th>\n",
       "      <th>price</th>\n",
       "      <th>user_id</th>\n",
       "      <th>user_session</th>\n",
       "    </tr>\n",
       "  </thead>\n",
       "  <tbody>\n",
       "    <tr>\n",
       "      <th>3309</th>\n",
       "      <td>2019-10-01 06:41:39 UTC</td>\n",
       "      <td>1004856</td>\n",
       "      <td>2053013555631882655</td>\n",
       "      <td>electronics.smartphone</td>\n",
       "      <td>samsung</td>\n",
       "      <td>130.76</td>\n",
       "      <td>555119233</td>\n",
       "      <td>53ad00ec-2d13-491c-9743-504913ea238c</td>\n",
       "    </tr>\n",
       "    <tr>\n",
       "      <th>3310</th>\n",
       "      <td>2019-10-01 06:41:39 UTC</td>\n",
       "      <td>1004856</td>\n",
       "      <td>2053013555631882655</td>\n",
       "      <td>electronics.smartphone</td>\n",
       "      <td>samsung</td>\n",
       "      <td>130.76</td>\n",
       "      <td>555119233</td>\n",
       "      <td>53ad00ec-2d13-491c-9743-504913ea238c</td>\n",
       "    </tr>\n",
       "    <tr>\n",
       "      <th>3311</th>\n",
       "      <td>2019-10-01 06:41:39 UTC</td>\n",
       "      <td>12201514</td>\n",
       "      <td>2116907525176557699</td>\n",
       "      <td>sport.bicycle</td>\n",
       "      <td>giant</td>\n",
       "      <td>174.78</td>\n",
       "      <td>513266807</td>\n",
       "      <td>8da7ccee-3b8a-4cda-a74a-2f21fd5c12c3</td>\n",
       "    </tr>\n",
       "  </tbody>\n",
       "</table>\n",
       "</div>"
      ],
      "text/plain": [
       "                   event_time  product_id          category_id  \\\n",
       "3309  2019-10-01 06:41:39 UTC     1004856  2053013555631882655   \n",
       "3310  2019-10-01 06:41:39 UTC     1004856  2053013555631882655   \n",
       "3311  2019-10-01 06:41:39 UTC    12201514  2116907525176557699   \n",
       "\n",
       "               category_code    brand   price    user_id  \\\n",
       "3309  electronics.smartphone  samsung  130.76  555119233   \n",
       "3310  electronics.smartphone  samsung  130.76  555119233   \n",
       "3311           sport.bicycle    giant  174.78  513266807   \n",
       "\n",
       "                              user_session  \n",
       "3309  53ad00ec-2d13-491c-9743-504913ea238c  \n",
       "3310  53ad00ec-2d13-491c-9743-504913ea238c  \n",
       "3311  8da7ccee-3b8a-4cda-a74a-2f21fd5c12c3  "
      ]
     },
     "execution_count": 12,
     "metadata": {},
     "output_type": "execute_result"
    }
   ],
   "source": [
    "# No me deja hacer una AND de la 'product_id' y la 'user_session'. Al parecer tienen que ser del mismo tipo\n",
    "# de datos\n",
    "multistore_sales_df.loc[multistore_sales_df['event_time'] == '2019-10-01 06:41:39 UTC']"
   ]
  },
  {
   "cell_type": "markdown",
   "id": "0f35639f",
   "metadata": {},
   "source": [
    "¡Las filas 3309 y 3310 realmente están duplicadas! Elimino las filas duplicadas del dataset."
   ]
  },
  {
   "cell_type": "code",
   "execution_count": 13,
   "id": "89cfeb0b",
   "metadata": {},
   "outputs": [
    {
     "data": {
      "text/plain": [
       "(5573721, 8)"
      ]
     },
     "execution_count": 13,
     "metadata": {},
     "output_type": "execute_result"
    }
   ],
   "source": [
    "multistore_sales_df.drop_duplicates(inplace=True)\n",
    "multistore_sales_df.shape"
   ]
  },
  {
   "cell_type": "markdown",
   "id": "98223588",
   "metadata": {},
   "source": [
    "### 2.2 Chequeo de valores faltantes"
   ]
  },
  {
   "cell_type": "code",
   "execution_count": 15,
   "id": "b5875619",
   "metadata": {},
   "outputs": [
    {
     "data": {
      "text/plain": [
       "event_time       0\n",
       "product_id       0\n",
       "category_id      0\n",
       "category_code    0\n",
       "brand            0\n",
       "price            0\n",
       "user_id          0\n",
       "user_session     3\n",
       "dtype: int64"
      ]
     },
     "execution_count": 15,
     "metadata": {},
     "output_type": "execute_result"
    }
   ],
   "source": [
    "multistore_sales_df.isna().sum()"
   ]
  },
  {
   "cell_type": "code",
   "execution_count": 17,
   "id": "42a5faf9",
   "metadata": {},
   "outputs": [
    {
     "data": {
      "text/html": [
       "<div>\n",
       "<style scoped>\n",
       "    .dataframe tbody tr th:only-of-type {\n",
       "        vertical-align: middle;\n",
       "    }\n",
       "\n",
       "    .dataframe tbody tr th {\n",
       "        vertical-align: top;\n",
       "    }\n",
       "\n",
       "    .dataframe thead th {\n",
       "        text-align: right;\n",
       "    }\n",
       "</style>\n",
       "<table border=\"1\" class=\"dataframe\">\n",
       "  <thead>\n",
       "    <tr style=\"text-align: right;\">\n",
       "      <th></th>\n",
       "      <th>event_time</th>\n",
       "      <th>product_id</th>\n",
       "      <th>category_id</th>\n",
       "      <th>category_code</th>\n",
       "      <th>brand</th>\n",
       "      <th>price</th>\n",
       "      <th>user_id</th>\n",
       "      <th>user_session</th>\n",
       "    </tr>\n",
       "  </thead>\n",
       "  <tbody>\n",
       "    <tr>\n",
       "      <th>5294675</th>\n",
       "      <td>2020-04-16 15:39:34 UTC</td>\n",
       "      <td>5000313</td>\n",
       "      <td>2232732102950912587</td>\n",
       "      <td>appliances.sewing_machine</td>\n",
       "      <td>brother</td>\n",
       "      <td>175.81</td>\n",
       "      <td>563939005</td>\n",
       "      <td>NaN</td>\n",
       "    </tr>\n",
       "    <tr>\n",
       "      <th>5370972</th>\n",
       "      <td>2020-04-18 19:37:11 UTC</td>\n",
       "      <td>1005098</td>\n",
       "      <td>2232732093077520756</td>\n",
       "      <td>construction.tools.light</td>\n",
       "      <td>samsung</td>\n",
       "      <td>146.46</td>\n",
       "      <td>643633435</td>\n",
       "      <td>NaN</td>\n",
       "    </tr>\n",
       "    <tr>\n",
       "      <th>5581259</th>\n",
       "      <td>2020-04-27 07:18:28 UTC</td>\n",
       "      <td>2800477</td>\n",
       "      <td>2232732091307524418</td>\n",
       "      <td>appliances.kitchen.refrigerators</td>\n",
       "      <td>beko</td>\n",
       "      <td>422.12</td>\n",
       "      <td>514665829</td>\n",
       "      <td>NaN</td>\n",
       "    </tr>\n",
       "  </tbody>\n",
       "</table>\n",
       "</div>"
      ],
      "text/plain": [
       "                      event_time  product_id          category_id  \\\n",
       "5294675  2020-04-16 15:39:34 UTC     5000313  2232732102950912587   \n",
       "5370972  2020-04-18 19:37:11 UTC     1005098  2232732093077520756   \n",
       "5581259  2020-04-27 07:18:28 UTC     2800477  2232732091307524418   \n",
       "\n",
       "                            category_code    brand   price    user_id  \\\n",
       "5294675         appliances.sewing_machine  brother  175.81  563939005   \n",
       "5370972          construction.tools.light  samsung  146.46  643633435   \n",
       "5581259  appliances.kitchen.refrigerators     beko  422.12  514665829   \n",
       "\n",
       "        user_session  \n",
       "5294675          NaN  \n",
       "5370972          NaN  \n",
       "5581259          NaN  "
      ]
     },
     "execution_count": 17,
     "metadata": {},
     "output_type": "execute_result"
    }
   ],
   "source": [
    "multistore_sales_df[multistore_sales_df.isna().any(axis=1)]"
   ]
  },
  {
   "cell_type": "markdown",
   "id": "244e2dcc",
   "metadata": {},
   "source": [
    "Resulta que la columna *user_session* también tiene valores *NAs* y eliminamos las filas afectadas."
   ]
  },
  {
   "cell_type": "code",
   "execution_count": 18,
   "id": "2598c44b",
   "metadata": {},
   "outputs": [],
   "source": [
    "# Eliminamos estas filas con nulos\n",
    "multistore_sales_df.dropna(inplace=True)"
   ]
  },
  {
   "cell_type": "code",
   "execution_count": 20,
   "id": "bfe116ae",
   "metadata": {},
   "outputs": [
    {
     "data": {
      "text/html": [
       "<div>\n",
       "<style scoped>\n",
       "    .dataframe tbody tr th:only-of-type {\n",
       "        vertical-align: middle;\n",
       "    }\n",
       "\n",
       "    .dataframe tbody tr th {\n",
       "        vertical-align: top;\n",
       "    }\n",
       "\n",
       "    .dataframe thead th {\n",
       "        text-align: right;\n",
       "    }\n",
       "</style>\n",
       "<table border=\"1\" class=\"dataframe\">\n",
       "  <thead>\n",
       "    <tr style=\"text-align: right;\">\n",
       "      <th></th>\n",
       "      <th>event_time</th>\n",
       "      <th>product_id</th>\n",
       "      <th>category_id</th>\n",
       "      <th>category_code</th>\n",
       "      <th>brand</th>\n",
       "      <th>price</th>\n",
       "      <th>user_id</th>\n",
       "      <th>user_session</th>\n",
       "    </tr>\n",
       "  </thead>\n",
       "  <tbody>\n",
       "  </tbody>\n",
       "</table>\n",
       "</div>"
      ],
      "text/plain": [
       "Empty DataFrame\n",
       "Columns: [event_time, product_id, category_id, category_code, brand, price, user_id, user_session]\n",
       "Index: []"
      ]
     },
     "execution_count": 20,
     "metadata": {},
     "output_type": "execute_result"
    }
   ],
   "source": [
    "# Comprobación\n",
    "multistore_sales_df[multistore_sales_df.isna().any(axis=1)]"
   ]
  },
  {
   "cell_type": "markdown",
   "id": "7e7eb867",
   "metadata": {},
   "source": [
    "## 3. Exportación de los datos a csv"
   ]
  },
  {
   "cell_type": "code",
   "execution_count": 22,
   "id": "e4db2cd1",
   "metadata": {},
   "outputs": [],
   "source": [
    "multistore_sales_file_w = os.path.join(path + 'sales_multistore_10_2019_04_2020' + '.csv')\n",
    "multistore_sales_df.to_csv(multistore_sales_file_w, index=False)"
   ]
  }
 ],
 "metadata": {
  "kernelspec": {
   "display_name": "Python 3 (ipykernel)",
   "language": "python",
   "name": "python3"
  },
  "language_info": {
   "codemirror_mode": {
    "name": "ipython",
    "version": 3
   },
   "file_extension": ".py",
   "mimetype": "text/x-python",
   "name": "python",
   "nbconvert_exporter": "python",
   "pygments_lexer": "ipython3",
   "version": "3.9.7"
  }
 },
 "nbformat": 4,
 "nbformat_minor": 5
}
